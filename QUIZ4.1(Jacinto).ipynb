{
  "nbformat": 4,
  "nbformat_minor": 0,
  "metadata": {
    "colab": {
      "provenance": []
    },
    "kernelspec": {
      "name": "python3",
      "display_name": "Python 3"
    },
    "language_info": {
      "name": "python"
    }
  },
  "cells": [
    {
      "cell_type": "code",
      "execution_count": 54,
      "metadata": {
        "colab": {
          "base_uri": "https://localhost:8080/"
        },
        "id": "7Ct3vY6VxNHp",
        "outputId": "e128a631-fe00-464e-af30-3e3d20f6d928"
      },
      "outputs": [
        {
          "output_type": "stream",
          "name": "stdout",
          "text": [
            "number of columns:  4\n",
            "\n",
            "\n",
            "number of rows:  10\n"
          ]
        }
      ],
      "source": [
        "#Write a Python program using Pandas to count the number of rows and columns of a DataFrame.\n",
        "\n",
        "import pandas as pd\n",
        "import numpy as np\n",
        "\n",
        "\n",
        "\n",
        "exam_data = {'name': ['Anastasia', 'Dima', 'Katherine', 'James', 'Emily', 'Michael', 'Matthew', 'Laura', 'Kevin', 'Jonas'],\n",
        "             'score': [12.5, 9, 16.5, np.nan, 9, 20, 14.5, np.nan, 8, 19],'attempts': [1, 3, 2, 3, 2, 3, 1, 1, 2, 1],\n",
        "             'qualify': ['yes', 'no', 'yes', 'no', 'no', 'yes', 'yes', 'no', 'no', 'yes']}\n",
        "labels = ['a', 'b', 'c', 'd', 'e', 'f', 'g', 'h', 'i', 'j']\n",
        "\n",
        "\n",
        "DF = pd.DataFrame(exam_data)\n",
        "DF2 = pd.DataFrame(labels)\n",
        "\n",
        "num_columns = DF.shape[1]\n",
        "num_rows = DF2.shape[0]\n",
        "\n",
        "print(\"number of columns: \" , num_columns)\n",
        "print(\"\\n\")\n",
        "print(\"number of rows: \" , num_rows)\n",
        "\n",
        "\n",
        "\n"
      ]
    }
  ]
}

{
  "nbformat": 4,
  "nbformat_minor": 0,
  "metadata": {
    "colab": {
      "provenance": []
    },
    "kernelspec": {
      "name": "python3",
      "display_name": "Python 3"
    },
    "language_info": {
      "name": "python"
    }
  },
  "cells": [
    {
      "cell_type": "code",
      "execution_count": 65,
      "metadata": {
        "colab": {
          "base_uri": "https://localhost:8080/"
        },
        "id": "7Ct3vY6VxNHp",
        "outputId": "7ede8fcd-27cc-4ab1-ee9d-c420499368f5"
      },
      "outputs": [
        {
          "output_type": "stream",
          "name": "stdout",
          "text": [
            "Number of Columns in the list are:  4\n",
            "Number of rows in the list are:  10\n",
            "\n",
            "\n",
            "Data found that is between 15 to 20: \n",
            "\n",
            "        name  score  attempts qualify\n",
            "2  Katherine   16.5         2     yes\n",
            "5    Michael   20.0         3     yes\n",
            "9      Jonas   19.0         1     yes\n"
          ]
        }
      ],
      "source": [
        "#Write a Python program using Pandas to count the number of rows and columns of a DataFrame.\n",
        "\n",
        "import pandas as pd\n",
        "import numpy as np\n",
        "\n",
        "exam_data = {'name': ['Anastasia', 'Dima', 'Katherine', 'James', 'Emily', 'Michael', 'Matthew', 'Laura', 'Kevin', 'Jonas'],\n",
        "             'score': [12.5, 9, 16.5, np.nan, 9, 20, 14.5, np.nan, 8, 19],'attempts': [1, 3, 2, 3, 2, 3, 1, 1, 2, 1],\n",
        "             'qualify': ['yes', 'no', 'yes', 'no', 'no', 'yes', 'yes', 'no', 'no', 'yes']}\n",
        "labels = ['a', 'b', 'c', 'd', 'e', 'f', 'g', 'h', 'i', 'j']\n",
        "\n",
        "df = pd.DataFrame(exam_data)\n",
        "df_labels = pd.DataFrame(labels)\n",
        "\n",
        "number_of_columns = df.shape[1]\n",
        "number_of_rows = df_labels.shape[0]\n",
        "\n",
        "print('Number of Columns in the list are: ' , number_of_columns)\n",
        "print('Number of rows in the list are: ', number_of_rows)\n",
        "print('\\n')\n",
        "\n",
        "\n",
        "#Select and print data that is between 15 to 20 in the DataFrame.\n",
        "\n",
        "selected_values = df[(df['score'] >= 15) & (df['score'] <= 20)]\n",
        "\n",
        "print(\"Data found that is between 15 to 20: \\n\")\n",
        "print(selected_values)"
      ]
    }
  ]
}
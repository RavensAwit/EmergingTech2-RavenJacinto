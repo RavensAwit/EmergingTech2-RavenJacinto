{
  "nbformat": 4,
  "nbformat_minor": 0,
  "metadata": {
    "colab": {
      "provenance": []
    },
    "kernelspec": {
      "name": "python3",
      "display_name": "Python 3"
    },
    "language_info": {
      "name": "python"
    }
  },
  "cells": [
    {
      "cell_type": "markdown",
      "source": [
        "# **Activity:**    Assignment 8.1 : Saving Models\n",
        "\n",
        "# **Name:**    Raven Charles Roy P. Jacinto\n",
        "\n",
        "# **Course and Section:**    CPE019 - CPE32S3\n",
        "\n",
        "# **Date of Submission:**    April 19, 2024\n",
        "\n",
        "# **Instructor:**    Engr. Roman Richard\n",
        "\n"
      ],
      "metadata": {
        "id": "zHRPgDqoHYbc"
      }
    },
    {
      "cell_type": "markdown",
      "source": [
        "## **Instructions:**\n",
        "\n",
        "1.) Choose any dataset applicable to either a classification problem or a regression problem.\n",
        "\n",
        "2.) Explain your datasets and the problem being addressed.\n",
        "\n",
        "3.)  Show evidence that you can do the following:\n",
        "- Save a model in HDF5 format\n",
        "- Save a model and load the model in a JSON format\n",
        "- Save a model and load the model in a YAML format\n",
        "\n",
        "- Checkpoint Neural Network Model Improvements\n",
        "- Checkpoint Best Neural Network Model only\n",
        "\n",
        "- Load a saved Neural Network model\n",
        "- Visualize Model Training History in Keras\n",
        "- Show the application of Dropout Regularization\n",
        "- Show the application of Dropout on the visible layer\n",
        "- Show the application of Dropout on the hidden layer\n",
        "- Show the application of a time-based learning rate schedule\n",
        "- Show the application of a drop-based learning rate schedule\n"
      ],
      "metadata": {
        "id": "DBpP4aeAHh_i"
      }
    },
    {
      "cell_type": "code",
      "execution_count": null,
      "metadata": {
        "colab": {
          "base_uri": "https://localhost:8080/"
        },
        "id": "Vc9cD4L2GrOk",
        "outputId": "543bac15-0185-4fe0-d2b6-391195d8f73f"
      },
      "outputs": [
        {
          "output_type": "stream",
          "name": "stdout",
          "text": [
            "Requirement already satisfied: h5py in /usr/local/lib/python3.10/dist-packages (3.9.0)\n",
            "Requirement already satisfied: numpy>=1.17.3 in /usr/local/lib/python3.10/dist-packages (from h5py) (1.25.2)\n"
          ]
        }
      ],
      "source": [
        "pip install h5py"
      ]
    },
    {
      "cell_type": "code",
      "source": [
        "import pandas as pd\n",
        "import numpy\n",
        "import os\n",
        "import tensorflow as tf\n",
        "\n",
        "from sklearn.model_selection import train_test_split\n",
        "from sklearn.preprocessing import StandardScaler\n",
        "from sklearn.metrics import mean_squared_error, mean_absolute_error\n",
        "from tensorflow.keras.models import Sequential, model_from_json\n",
        "from tensorflow.keras.models import Sequential\n",
        "from tensorflow.keras.layers import Dense\n",
        "from tensorflow.keras.models import model_from_yaml\n"
      ],
      "metadata": {
        "id": "IgnmzURiJbk9"
      },
      "execution_count": null,
      "outputs": []
    },
    {
      "cell_type": "markdown",
      "source": [
        "## **Upon looking for regression dataset at UCI Machine Learning Repository, I found this, however, it does not have python import so I am not able to fetch this one. Therefore, I manually utilize this dataset through pandas.**"
      ],
      "metadata": {
        "id": "dAMX5hK5g6I-"
      }
    },
    {
      "cell_type": "markdown",
      "source": [
        "## **Dataset explanation and the problem being addressed:**\n",
        "\n",
        "#### This dataset pertains to a localization system or algorithm used mostly to better calculate positioning systems. It contain variables namely anchor_ratio, trans_range, node_density, iterations, average localization error or ALE, and standard deviation of ALE sd_ALE.\n",
        "\n",
        "#### It is crucial to assess the performance of localization systems in various scenarios like in robotics, GPS tracking, or indoor positioning systems that is why we need to predict its average locaclization error, to better evaluate and improve the accuracy and reliability of localization systems and enhance their effectiveness in real-world applications.\n",
        "\n",
        "#### This machine learning model aims to develop a regression model that accurately predicts Average Localization Error based on the selected features."
      ],
      "metadata": {
        "id": "u8Ez_ySQNL2H"
      }
    },
    {
      "cell_type": "markdown",
      "source": [
        "# **Pre-processing**"
      ],
      "metadata": {
        "id": "JwkJ56gGXkXe"
      }
    },
    {
      "cell_type": "code",
      "source": [
        "df = pd.read_csv(\"/content/mcs_ds_edited_iter_shuffled.csv\")"
      ],
      "metadata": {
        "id": "fqPU5ag5KZzR"
      },
      "execution_count": null,
      "outputs": []
    },
    {
      "cell_type": "code",
      "source": [
        "df.shape"
      ],
      "metadata": {
        "colab": {
          "base_uri": "https://localhost:8080/"
        },
        "id": "TlyU3F1CbzSw",
        "outputId": "3fb889be-63e6-4304-d46e-129b029e3a3e"
      },
      "execution_count": null,
      "outputs": [
        {
          "output_type": "execute_result",
          "data": {
            "text/plain": [
              "(107, 6)"
            ]
          },
          "metadata": {},
          "execution_count": 7
        }
      ]
    },
    {
      "cell_type": "code",
      "source": [
        "df.info()"
      ],
      "metadata": {
        "colab": {
          "base_uri": "https://localhost:8080/"
        },
        "id": "XKZQeXCOXuQY",
        "outputId": "53947b3a-8c65-42fd-92ce-4c4345a8db58"
      },
      "execution_count": null,
      "outputs": [
        {
          "output_type": "stream",
          "name": "stdout",
          "text": [
            "<class 'pandas.core.frame.DataFrame'>\n",
            "RangeIndex: 107 entries, 0 to 106\n",
            "Data columns (total 6 columns):\n",
            " #   Column        Non-Null Count  Dtype  \n",
            "---  ------        --------------  -----  \n",
            " 0   anchor_ratio  107 non-null    int64  \n",
            " 1   trans_range   107 non-null    int64  \n",
            " 2   node_density  107 non-null    int64  \n",
            " 3   iterations    107 non-null    int64  \n",
            " 4   ale           107 non-null    float64\n",
            " 5   sd_ale        107 non-null    float64\n",
            "dtypes: float64(2), int64(4)\n",
            "memory usage: 5.1 KB\n"
          ]
        }
      ]
    },
    {
      "cell_type": "code",
      "source": [
        "df.isnull().sum()"
      ],
      "metadata": {
        "colab": {
          "base_uri": "https://localhost:8080/"
        },
        "id": "ANFYYrUtH0PZ",
        "outputId": "6bb6629a-d602-4f12-90fc-06e442f0c5d3"
      },
      "execution_count": null,
      "outputs": [
        {
          "output_type": "execute_result",
          "data": {
            "text/plain": [
              "anchor_ratio    0\n",
              "trans_range     0\n",
              "node_density    0\n",
              "iterations      0\n",
              "ale             0\n",
              "sd_ale          0\n",
              "dtype: int64"
            ]
          },
          "metadata": {},
          "execution_count": 10
        }
      ]
    },
    {
      "cell_type": "code",
      "source": [
        "df.head()"
      ],
      "metadata": {
        "colab": {
          "base_uri": "https://localhost:8080/",
          "height": 206
        },
        "id": "HgL2gBbxKsNg",
        "outputId": "ff1f5b88-2402-48cf-a2da-2c6f826e0992"
      },
      "execution_count": null,
      "outputs": [
        {
          "output_type": "execute_result",
          "data": {
            "text/plain": [
              "   anchor_ratio  trans_range  node_density  iterations       ale    sd_ale\n",
              "0            30           15           200          40  0.773546  0.250555\n",
              "1            15           15           100          70  0.911941  0.498329\n",
              "2            30           15           100          50  0.814867  0.255546\n",
              "3            15           20           100          20  1.435332  0.394603\n",
              "4            30           15           100          40  1.265909  0.302943"
            ],
            "text/html": [
              "\n",
              "  <div id=\"df-9ff9baf1-7942-484e-8f77-cf93c85e7054\" class=\"colab-df-container\">\n",
              "    <div>\n",
              "<style scoped>\n",
              "    .dataframe tbody tr th:only-of-type {\n",
              "        vertical-align: middle;\n",
              "    }\n",
              "\n",
              "    .dataframe tbody tr th {\n",
              "        vertical-align: top;\n",
              "    }\n",
              "\n",
              "    .dataframe thead th {\n",
              "        text-align: right;\n",
              "    }\n",
              "</style>\n",
              "<table border=\"1\" class=\"dataframe\">\n",
              "  <thead>\n",
              "    <tr style=\"text-align: right;\">\n",
              "      <th></th>\n",
              "      <th>anchor_ratio</th>\n",
              "      <th>trans_range</th>\n",
              "      <th>node_density</th>\n",
              "      <th>iterations</th>\n",
              "      <th>ale</th>\n",
              "      <th>sd_ale</th>\n",
              "    </tr>\n",
              "  </thead>\n",
              "  <tbody>\n",
              "    <tr>\n",
              "      <th>0</th>\n",
              "      <td>30</td>\n",
              "      <td>15</td>\n",
              "      <td>200</td>\n",
              "      <td>40</td>\n",
              "      <td>0.773546</td>\n",
              "      <td>0.250555</td>\n",
              "    </tr>\n",
              "    <tr>\n",
              "      <th>1</th>\n",
              "      <td>15</td>\n",
              "      <td>15</td>\n",
              "      <td>100</td>\n",
              "      <td>70</td>\n",
              "      <td>0.911941</td>\n",
              "      <td>0.498329</td>\n",
              "    </tr>\n",
              "    <tr>\n",
              "      <th>2</th>\n",
              "      <td>30</td>\n",
              "      <td>15</td>\n",
              "      <td>100</td>\n",
              "      <td>50</td>\n",
              "      <td>0.814867</td>\n",
              "      <td>0.255546</td>\n",
              "    </tr>\n",
              "    <tr>\n",
              "      <th>3</th>\n",
              "      <td>15</td>\n",
              "      <td>20</td>\n",
              "      <td>100</td>\n",
              "      <td>20</td>\n",
              "      <td>1.435332</td>\n",
              "      <td>0.394603</td>\n",
              "    </tr>\n",
              "    <tr>\n",
              "      <th>4</th>\n",
              "      <td>30</td>\n",
              "      <td>15</td>\n",
              "      <td>100</td>\n",
              "      <td>40</td>\n",
              "      <td>1.265909</td>\n",
              "      <td>0.302943</td>\n",
              "    </tr>\n",
              "  </tbody>\n",
              "</table>\n",
              "</div>\n",
              "    <div class=\"colab-df-buttons\">\n",
              "\n",
              "  <div class=\"colab-df-container\">\n",
              "    <button class=\"colab-df-convert\" onclick=\"convertToInteractive('df-9ff9baf1-7942-484e-8f77-cf93c85e7054')\"\n",
              "            title=\"Convert this dataframe to an interactive table.\"\n",
              "            style=\"display:none;\">\n",
              "\n",
              "  <svg xmlns=\"http://www.w3.org/2000/svg\" height=\"24px\" viewBox=\"0 -960 960 960\">\n",
              "    <path d=\"M120-120v-720h720v720H120Zm60-500h600v-160H180v160Zm220 220h160v-160H400v160Zm0 220h160v-160H400v160ZM180-400h160v-160H180v160Zm440 0h160v-160H620v160ZM180-180h160v-160H180v160Zm440 0h160v-160H620v160Z\"/>\n",
              "  </svg>\n",
              "    </button>\n",
              "\n",
              "  <style>\n",
              "    .colab-df-container {\n",
              "      display:flex;\n",
              "      gap: 12px;\n",
              "    }\n",
              "\n",
              "    .colab-df-convert {\n",
              "      background-color: #E8F0FE;\n",
              "      border: none;\n",
              "      border-radius: 50%;\n",
              "      cursor: pointer;\n",
              "      display: none;\n",
              "      fill: #1967D2;\n",
              "      height: 32px;\n",
              "      padding: 0 0 0 0;\n",
              "      width: 32px;\n",
              "    }\n",
              "\n",
              "    .colab-df-convert:hover {\n",
              "      background-color: #E2EBFA;\n",
              "      box-shadow: 0px 1px 2px rgba(60, 64, 67, 0.3), 0px 1px 3px 1px rgba(60, 64, 67, 0.15);\n",
              "      fill: #174EA6;\n",
              "    }\n",
              "\n",
              "    .colab-df-buttons div {\n",
              "      margin-bottom: 4px;\n",
              "    }\n",
              "\n",
              "    [theme=dark] .colab-df-convert {\n",
              "      background-color: #3B4455;\n",
              "      fill: #D2E3FC;\n",
              "    }\n",
              "\n",
              "    [theme=dark] .colab-df-convert:hover {\n",
              "      background-color: #434B5C;\n",
              "      box-shadow: 0px 1px 3px 1px rgba(0, 0, 0, 0.15);\n",
              "      filter: drop-shadow(0px 1px 2px rgba(0, 0, 0, 0.3));\n",
              "      fill: #FFFFFF;\n",
              "    }\n",
              "  </style>\n",
              "\n",
              "    <script>\n",
              "      const buttonEl =\n",
              "        document.querySelector('#df-9ff9baf1-7942-484e-8f77-cf93c85e7054 button.colab-df-convert');\n",
              "      buttonEl.style.display =\n",
              "        google.colab.kernel.accessAllowed ? 'block' : 'none';\n",
              "\n",
              "      async function convertToInteractive(key) {\n",
              "        const element = document.querySelector('#df-9ff9baf1-7942-484e-8f77-cf93c85e7054');\n",
              "        const dataTable =\n",
              "          await google.colab.kernel.invokeFunction('convertToInteractive',\n",
              "                                                    [key], {});\n",
              "        if (!dataTable) return;\n",
              "\n",
              "        const docLinkHtml = 'Like what you see? Visit the ' +\n",
              "          '<a target=\"_blank\" href=https://colab.research.google.com/notebooks/data_table.ipynb>data table notebook</a>'\n",
              "          + ' to learn more about interactive tables.';\n",
              "        element.innerHTML = '';\n",
              "        dataTable['output_type'] = 'display_data';\n",
              "        await google.colab.output.renderOutput(dataTable, element);\n",
              "        const docLink = document.createElement('div');\n",
              "        docLink.innerHTML = docLinkHtml;\n",
              "        element.appendChild(docLink);\n",
              "      }\n",
              "    </script>\n",
              "  </div>\n",
              "\n",
              "\n",
              "<div id=\"df-e4ce6824-e403-4a36-b0b0-9933c2f348df\">\n",
              "  <button class=\"colab-df-quickchart\" onclick=\"quickchart('df-e4ce6824-e403-4a36-b0b0-9933c2f348df')\"\n",
              "            title=\"Suggest charts\"\n",
              "            style=\"display:none;\">\n",
              "\n",
              "<svg xmlns=\"http://www.w3.org/2000/svg\" height=\"24px\"viewBox=\"0 0 24 24\"\n",
              "     width=\"24px\">\n",
              "    <g>\n",
              "        <path d=\"M19 3H5c-1.1 0-2 .9-2 2v14c0 1.1.9 2 2 2h14c1.1 0 2-.9 2-2V5c0-1.1-.9-2-2-2zM9 17H7v-7h2v7zm4 0h-2V7h2v10zm4 0h-2v-4h2v4z\"/>\n",
              "    </g>\n",
              "</svg>\n",
              "  </button>\n",
              "\n",
              "<style>\n",
              "  .colab-df-quickchart {\n",
              "      --bg-color: #E8F0FE;\n",
              "      --fill-color: #1967D2;\n",
              "      --hover-bg-color: #E2EBFA;\n",
              "      --hover-fill-color: #174EA6;\n",
              "      --disabled-fill-color: #AAA;\n",
              "      --disabled-bg-color: #DDD;\n",
              "  }\n",
              "\n",
              "  [theme=dark] .colab-df-quickchart {\n",
              "      --bg-color: #3B4455;\n",
              "      --fill-color: #D2E3FC;\n",
              "      --hover-bg-color: #434B5C;\n",
              "      --hover-fill-color: #FFFFFF;\n",
              "      --disabled-bg-color: #3B4455;\n",
              "      --disabled-fill-color: #666;\n",
              "  }\n",
              "\n",
              "  .colab-df-quickchart {\n",
              "    background-color: var(--bg-color);\n",
              "    border: none;\n",
              "    border-radius: 50%;\n",
              "    cursor: pointer;\n",
              "    display: none;\n",
              "    fill: var(--fill-color);\n",
              "    height: 32px;\n",
              "    padding: 0;\n",
              "    width: 32px;\n",
              "  }\n",
              "\n",
              "  .colab-df-quickchart:hover {\n",
              "    background-color: var(--hover-bg-color);\n",
              "    box-shadow: 0 1px 2px rgba(60, 64, 67, 0.3), 0 1px 3px 1px rgba(60, 64, 67, 0.15);\n",
              "    fill: var(--button-hover-fill-color);\n",
              "  }\n",
              "\n",
              "  .colab-df-quickchart-complete:disabled,\n",
              "  .colab-df-quickchart-complete:disabled:hover {\n",
              "    background-color: var(--disabled-bg-color);\n",
              "    fill: var(--disabled-fill-color);\n",
              "    box-shadow: none;\n",
              "  }\n",
              "\n",
              "  .colab-df-spinner {\n",
              "    border: 2px solid var(--fill-color);\n",
              "    border-color: transparent;\n",
              "    border-bottom-color: var(--fill-color);\n",
              "    animation:\n",
              "      spin 1s steps(1) infinite;\n",
              "  }\n",
              "\n",
              "  @keyframes spin {\n",
              "    0% {\n",
              "      border-color: transparent;\n",
              "      border-bottom-color: var(--fill-color);\n",
              "      border-left-color: var(--fill-color);\n",
              "    }\n",
              "    20% {\n",
              "      border-color: transparent;\n",
              "      border-left-color: var(--fill-color);\n",
              "      border-top-color: var(--fill-color);\n",
              "    }\n",
              "    30% {\n",
              "      border-color: transparent;\n",
              "      border-left-color: var(--fill-color);\n",
              "      border-top-color: var(--fill-color);\n",
              "      border-right-color: var(--fill-color);\n",
              "    }\n",
              "    40% {\n",
              "      border-color: transparent;\n",
              "      border-right-color: var(--fill-color);\n",
              "      border-top-color: var(--fill-color);\n",
              "    }\n",
              "    60% {\n",
              "      border-color: transparent;\n",
              "      border-right-color: var(--fill-color);\n",
              "    }\n",
              "    80% {\n",
              "      border-color: transparent;\n",
              "      border-right-color: var(--fill-color);\n",
              "      border-bottom-color: var(--fill-color);\n",
              "    }\n",
              "    90% {\n",
              "      border-color: transparent;\n",
              "      border-bottom-color: var(--fill-color);\n",
              "    }\n",
              "  }\n",
              "</style>\n",
              "\n",
              "  <script>\n",
              "    async function quickchart(key) {\n",
              "      const quickchartButtonEl =\n",
              "        document.querySelector('#' + key + ' button');\n",
              "      quickchartButtonEl.disabled = true;  // To prevent multiple clicks.\n",
              "      quickchartButtonEl.classList.add('colab-df-spinner');\n",
              "      try {\n",
              "        const charts = await google.colab.kernel.invokeFunction(\n",
              "            'suggestCharts', [key], {});\n",
              "      } catch (error) {\n",
              "        console.error('Error during call to suggestCharts:', error);\n",
              "      }\n",
              "      quickchartButtonEl.classList.remove('colab-df-spinner');\n",
              "      quickchartButtonEl.classList.add('colab-df-quickchart-complete');\n",
              "    }\n",
              "    (() => {\n",
              "      let quickchartButtonEl =\n",
              "        document.querySelector('#df-e4ce6824-e403-4a36-b0b0-9933c2f348df button');\n",
              "      quickchartButtonEl.style.display =\n",
              "        google.colab.kernel.accessAllowed ? 'block' : 'none';\n",
              "    })();\n",
              "  </script>\n",
              "</div>\n",
              "    </div>\n",
              "  </div>\n"
            ],
            "application/vnd.google.colaboratory.intrinsic+json": {
              "type": "dataframe",
              "variable_name": "df",
              "summary": "{\n  \"name\": \"df\",\n  \"rows\": 107,\n  \"fields\": [\n    {\n      \"column\": \"anchor_ratio\",\n      \"properties\": {\n        \"dtype\": \"number\",\n        \"std\": 6,\n        \"min\": 10,\n        \"max\": 30,\n        \"num_unique_values\": 11,\n        \"samples\": [\n          29,\n          30,\n          28\n        ],\n        \"semantic_type\": \"\",\n        \"description\": \"\"\n      }\n    },\n    {\n      \"column\": \"trans_range\",\n      \"properties\": {\n        \"dtype\": \"number\",\n        \"std\": 3,\n        \"min\": 12,\n        \"max\": 25,\n        \"num_unique_values\": 8,\n        \"samples\": [\n          20,\n          17,\n          15\n        ],\n        \"semantic_type\": \"\",\n        \"description\": \"\"\n      }\n    },\n    {\n      \"column\": \"node_density\",\n      \"properties\": {\n        \"dtype\": \"number\",\n        \"std\": 71,\n        \"min\": 100,\n        \"max\": 300,\n        \"num_unique_values\": 3,\n        \"samples\": [\n          200,\n          100,\n          300\n        ],\n        \"semantic_type\": \"\",\n        \"description\": \"\"\n      }\n    },\n    {\n      \"column\": \"iterations\",\n      \"properties\": {\n        \"dtype\": \"number\",\n        \"std\": 24,\n        \"min\": 14,\n        \"max\": 100,\n        \"num_unique_values\": 22,\n        \"samples\": [\n          40,\n          80,\n          16\n        ],\n        \"semantic_type\": \"\",\n        \"description\": \"\"\n      }\n    },\n    {\n      \"column\": \"ale\",\n      \"properties\": {\n        \"dtype\": \"number\",\n        \"std\": 0.4083134846084346,\n        \"min\": 0.394028786,\n        \"max\": 2.568407259,\n        \"num_unique_values\": 107,\n        \"samples\": [\n          1.204298023,\n          0.694361186,\n          1.265909048\n        ],\n        \"semantic_type\": \"\",\n        \"description\": \"\"\n      }\n    },\n    {\n      \"column\": \"sd_ale\",\n      \"properties\": {\n        \"dtype\": \"number\",\n        \"std\": 0.18339374715165346,\n        \"min\": 0.003267308,\n        \"max\": 1.092220436,\n        \"num_unique_values\": 107,\n        \"samples\": [\n          0.349468948,\n          0.108054554,\n          0.302943301\n        ],\n        \"semantic_type\": \"\",\n        \"description\": \"\"\n      }\n    }\n  ]\n}"
            }
          },
          "metadata": {},
          "execution_count": 9
        }
      ]
    },
    {
      "cell_type": "code",
      "source": [
        "df.dtypes"
      ],
      "metadata": {
        "colab": {
          "base_uri": "https://localhost:8080/"
        },
        "id": "RRSGOq-2c--m",
        "outputId": "1e36e57f-7ac5-40b8-ac41-4d98e9baac68"
      },
      "execution_count": null,
      "outputs": [
        {
          "output_type": "execute_result",
          "data": {
            "text/plain": [
              "anchor_ratio      int64\n",
              "trans_range       int64\n",
              "node_density      int64\n",
              "iterations        int64\n",
              "ale             float64\n",
              "sd_ale          float64\n",
              "dtype: object"
            ]
          },
          "metadata": {},
          "execution_count": 11
        }
      ]
    },
    {
      "cell_type": "code",
      "source": [
        "df.drop(columns=['sd_ale'])"
      ],
      "metadata": {
        "colab": {
          "base_uri": "https://localhost:8080/",
          "height": 424
        },
        "id": "rTW-U-6vKZfl",
        "outputId": "3782e7b5-e912-4ed7-98ba-58baa8de10a9"
      },
      "execution_count": null,
      "outputs": [
        {
          "output_type": "execute_result",
          "data": {
            "text/plain": [
              "     anchor_ratio  trans_range  node_density  iterations       ale\n",
              "0              30           15           200          40  0.773546\n",
              "1              15           15           100          70  0.911941\n",
              "2              30           15           100          50  0.814867\n",
              "3              15           20           100          20  1.435332\n",
              "4              30           15           100          40  1.265909\n",
              "..            ...          ...           ...         ...       ...\n",
              "102            18           23           100          20  1.287472\n",
              "103            14           17           200          60  0.899102\n",
              "104            15           20           100          50  1.171140\n",
              "105            20           20           100          40  1.234493\n",
              "106            15           15           200          40  0.635426\n",
              "\n",
              "[107 rows x 5 columns]"
            ],
            "text/html": [
              "\n",
              "  <div id=\"df-2c740d94-0150-428e-a165-af35ac7319fd\" class=\"colab-df-container\">\n",
              "    <div>\n",
              "<style scoped>\n",
              "    .dataframe tbody tr th:only-of-type {\n",
              "        vertical-align: middle;\n",
              "    }\n",
              "\n",
              "    .dataframe tbody tr th {\n",
              "        vertical-align: top;\n",
              "    }\n",
              "\n",
              "    .dataframe thead th {\n",
              "        text-align: right;\n",
              "    }\n",
              "</style>\n",
              "<table border=\"1\" class=\"dataframe\">\n",
              "  <thead>\n",
              "    <tr style=\"text-align: right;\">\n",
              "      <th></th>\n",
              "      <th>anchor_ratio</th>\n",
              "      <th>trans_range</th>\n",
              "      <th>node_density</th>\n",
              "      <th>iterations</th>\n",
              "      <th>ale</th>\n",
              "    </tr>\n",
              "  </thead>\n",
              "  <tbody>\n",
              "    <tr>\n",
              "      <th>0</th>\n",
              "      <td>30</td>\n",
              "      <td>15</td>\n",
              "      <td>200</td>\n",
              "      <td>40</td>\n",
              "      <td>0.773546</td>\n",
              "    </tr>\n",
              "    <tr>\n",
              "      <th>1</th>\n",
              "      <td>15</td>\n",
              "      <td>15</td>\n",
              "      <td>100</td>\n",
              "      <td>70</td>\n",
              "      <td>0.911941</td>\n",
              "    </tr>\n",
              "    <tr>\n",
              "      <th>2</th>\n",
              "      <td>30</td>\n",
              "      <td>15</td>\n",
              "      <td>100</td>\n",
              "      <td>50</td>\n",
              "      <td>0.814867</td>\n",
              "    </tr>\n",
              "    <tr>\n",
              "      <th>3</th>\n",
              "      <td>15</td>\n",
              "      <td>20</td>\n",
              "      <td>100</td>\n",
              "      <td>20</td>\n",
              "      <td>1.435332</td>\n",
              "    </tr>\n",
              "    <tr>\n",
              "      <th>4</th>\n",
              "      <td>30</td>\n",
              "      <td>15</td>\n",
              "      <td>100</td>\n",
              "      <td>40</td>\n",
              "      <td>1.265909</td>\n",
              "    </tr>\n",
              "    <tr>\n",
              "      <th>...</th>\n",
              "      <td>...</td>\n",
              "      <td>...</td>\n",
              "      <td>...</td>\n",
              "      <td>...</td>\n",
              "      <td>...</td>\n",
              "    </tr>\n",
              "    <tr>\n",
              "      <th>102</th>\n",
              "      <td>18</td>\n",
              "      <td>23</td>\n",
              "      <td>100</td>\n",
              "      <td>20</td>\n",
              "      <td>1.287472</td>\n",
              "    </tr>\n",
              "    <tr>\n",
              "      <th>103</th>\n",
              "      <td>14</td>\n",
              "      <td>17</td>\n",
              "      <td>200</td>\n",
              "      <td>60</td>\n",
              "      <td>0.899102</td>\n",
              "    </tr>\n",
              "    <tr>\n",
              "      <th>104</th>\n",
              "      <td>15</td>\n",
              "      <td>20</td>\n",
              "      <td>100</td>\n",
              "      <td>50</td>\n",
              "      <td>1.171140</td>\n",
              "    </tr>\n",
              "    <tr>\n",
              "      <th>105</th>\n",
              "      <td>20</td>\n",
              "      <td>20</td>\n",
              "      <td>100</td>\n",
              "      <td>40</td>\n",
              "      <td>1.234493</td>\n",
              "    </tr>\n",
              "    <tr>\n",
              "      <th>106</th>\n",
              "      <td>15</td>\n",
              "      <td>15</td>\n",
              "      <td>200</td>\n",
              "      <td>40</td>\n",
              "      <td>0.635426</td>\n",
              "    </tr>\n",
              "  </tbody>\n",
              "</table>\n",
              "<p>107 rows × 5 columns</p>\n",
              "</div>\n",
              "    <div class=\"colab-df-buttons\">\n",
              "\n",
              "  <div class=\"colab-df-container\">\n",
              "    <button class=\"colab-df-convert\" onclick=\"convertToInteractive('df-2c740d94-0150-428e-a165-af35ac7319fd')\"\n",
              "            title=\"Convert this dataframe to an interactive table.\"\n",
              "            style=\"display:none;\">\n",
              "\n",
              "  <svg xmlns=\"http://www.w3.org/2000/svg\" height=\"24px\" viewBox=\"0 -960 960 960\">\n",
              "    <path d=\"M120-120v-720h720v720H120Zm60-500h600v-160H180v160Zm220 220h160v-160H400v160Zm0 220h160v-160H400v160ZM180-400h160v-160H180v160Zm440 0h160v-160H620v160ZM180-180h160v-160H180v160Zm440 0h160v-160H620v160Z\"/>\n",
              "  </svg>\n",
              "    </button>\n",
              "\n",
              "  <style>\n",
              "    .colab-df-container {\n",
              "      display:flex;\n",
              "      gap: 12px;\n",
              "    }\n",
              "\n",
              "    .colab-df-convert {\n",
              "      background-color: #E8F0FE;\n",
              "      border: none;\n",
              "      border-radius: 50%;\n",
              "      cursor: pointer;\n",
              "      display: none;\n",
              "      fill: #1967D2;\n",
              "      height: 32px;\n",
              "      padding: 0 0 0 0;\n",
              "      width: 32px;\n",
              "    }\n",
              "\n",
              "    .colab-df-convert:hover {\n",
              "      background-color: #E2EBFA;\n",
              "      box-shadow: 0px 1px 2px rgba(60, 64, 67, 0.3), 0px 1px 3px 1px rgba(60, 64, 67, 0.15);\n",
              "      fill: #174EA6;\n",
              "    }\n",
              "\n",
              "    .colab-df-buttons div {\n",
              "      margin-bottom: 4px;\n",
              "    }\n",
              "\n",
              "    [theme=dark] .colab-df-convert {\n",
              "      background-color: #3B4455;\n",
              "      fill: #D2E3FC;\n",
              "    }\n",
              "\n",
              "    [theme=dark] .colab-df-convert:hover {\n",
              "      background-color: #434B5C;\n",
              "      box-shadow: 0px 1px 3px 1px rgba(0, 0, 0, 0.15);\n",
              "      filter: drop-shadow(0px 1px 2px rgba(0, 0, 0, 0.3));\n",
              "      fill: #FFFFFF;\n",
              "    }\n",
              "  </style>\n",
              "\n",
              "    <script>\n",
              "      const buttonEl =\n",
              "        document.querySelector('#df-2c740d94-0150-428e-a165-af35ac7319fd button.colab-df-convert');\n",
              "      buttonEl.style.display =\n",
              "        google.colab.kernel.accessAllowed ? 'block' : 'none';\n",
              "\n",
              "      async function convertToInteractive(key) {\n",
              "        const element = document.querySelector('#df-2c740d94-0150-428e-a165-af35ac7319fd');\n",
              "        const dataTable =\n",
              "          await google.colab.kernel.invokeFunction('convertToInteractive',\n",
              "                                                    [key], {});\n",
              "        if (!dataTable) return;\n",
              "\n",
              "        const docLinkHtml = 'Like what you see? Visit the ' +\n",
              "          '<a target=\"_blank\" href=https://colab.research.google.com/notebooks/data_table.ipynb>data table notebook</a>'\n",
              "          + ' to learn more about interactive tables.';\n",
              "        element.innerHTML = '';\n",
              "        dataTable['output_type'] = 'display_data';\n",
              "        await google.colab.output.renderOutput(dataTable, element);\n",
              "        const docLink = document.createElement('div');\n",
              "        docLink.innerHTML = docLinkHtml;\n",
              "        element.appendChild(docLink);\n",
              "      }\n",
              "    </script>\n",
              "  </div>\n",
              "\n",
              "\n",
              "<div id=\"df-734e31f1-d149-4880-a2d6-8e7cf3f09fbc\">\n",
              "  <button class=\"colab-df-quickchart\" onclick=\"quickchart('df-734e31f1-d149-4880-a2d6-8e7cf3f09fbc')\"\n",
              "            title=\"Suggest charts\"\n",
              "            style=\"display:none;\">\n",
              "\n",
              "<svg xmlns=\"http://www.w3.org/2000/svg\" height=\"24px\"viewBox=\"0 0 24 24\"\n",
              "     width=\"24px\">\n",
              "    <g>\n",
              "        <path d=\"M19 3H5c-1.1 0-2 .9-2 2v14c0 1.1.9 2 2 2h14c1.1 0 2-.9 2-2V5c0-1.1-.9-2-2-2zM9 17H7v-7h2v7zm4 0h-2V7h2v10zm4 0h-2v-4h2v4z\"/>\n",
              "    </g>\n",
              "</svg>\n",
              "  </button>\n",
              "\n",
              "<style>\n",
              "  .colab-df-quickchart {\n",
              "      --bg-color: #E8F0FE;\n",
              "      --fill-color: #1967D2;\n",
              "      --hover-bg-color: #E2EBFA;\n",
              "      --hover-fill-color: #174EA6;\n",
              "      --disabled-fill-color: #AAA;\n",
              "      --disabled-bg-color: #DDD;\n",
              "  }\n",
              "\n",
              "  [theme=dark] .colab-df-quickchart {\n",
              "      --bg-color: #3B4455;\n",
              "      --fill-color: #D2E3FC;\n",
              "      --hover-bg-color: #434B5C;\n",
              "      --hover-fill-color: #FFFFFF;\n",
              "      --disabled-bg-color: #3B4455;\n",
              "      --disabled-fill-color: #666;\n",
              "  }\n",
              "\n",
              "  .colab-df-quickchart {\n",
              "    background-color: var(--bg-color);\n",
              "    border: none;\n",
              "    border-radius: 50%;\n",
              "    cursor: pointer;\n",
              "    display: none;\n",
              "    fill: var(--fill-color);\n",
              "    height: 32px;\n",
              "    padding: 0;\n",
              "    width: 32px;\n",
              "  }\n",
              "\n",
              "  .colab-df-quickchart:hover {\n",
              "    background-color: var(--hover-bg-color);\n",
              "    box-shadow: 0 1px 2px rgba(60, 64, 67, 0.3), 0 1px 3px 1px rgba(60, 64, 67, 0.15);\n",
              "    fill: var(--button-hover-fill-color);\n",
              "  }\n",
              "\n",
              "  .colab-df-quickchart-complete:disabled,\n",
              "  .colab-df-quickchart-complete:disabled:hover {\n",
              "    background-color: var(--disabled-bg-color);\n",
              "    fill: var(--disabled-fill-color);\n",
              "    box-shadow: none;\n",
              "  }\n",
              "\n",
              "  .colab-df-spinner {\n",
              "    border: 2px solid var(--fill-color);\n",
              "    border-color: transparent;\n",
              "    border-bottom-color: var(--fill-color);\n",
              "    animation:\n",
              "      spin 1s steps(1) infinite;\n",
              "  }\n",
              "\n",
              "  @keyframes spin {\n",
              "    0% {\n",
              "      border-color: transparent;\n",
              "      border-bottom-color: var(--fill-color);\n",
              "      border-left-color: var(--fill-color);\n",
              "    }\n",
              "    20% {\n",
              "      border-color: transparent;\n",
              "      border-left-color: var(--fill-color);\n",
              "      border-top-color: var(--fill-color);\n",
              "    }\n",
              "    30% {\n",
              "      border-color: transparent;\n",
              "      border-left-color: var(--fill-color);\n",
              "      border-top-color: var(--fill-color);\n",
              "      border-right-color: var(--fill-color);\n",
              "    }\n",
              "    40% {\n",
              "      border-color: transparent;\n",
              "      border-right-color: var(--fill-color);\n",
              "      border-top-color: var(--fill-color);\n",
              "    }\n",
              "    60% {\n",
              "      border-color: transparent;\n",
              "      border-right-color: var(--fill-color);\n",
              "    }\n",
              "    80% {\n",
              "      border-color: transparent;\n",
              "      border-right-color: var(--fill-color);\n",
              "      border-bottom-color: var(--fill-color);\n",
              "    }\n",
              "    90% {\n",
              "      border-color: transparent;\n",
              "      border-bottom-color: var(--fill-color);\n",
              "    }\n",
              "  }\n",
              "</style>\n",
              "\n",
              "  <script>\n",
              "    async function quickchart(key) {\n",
              "      const quickchartButtonEl =\n",
              "        document.querySelector('#' + key + ' button');\n",
              "      quickchartButtonEl.disabled = true;  // To prevent multiple clicks.\n",
              "      quickchartButtonEl.classList.add('colab-df-spinner');\n",
              "      try {\n",
              "        const charts = await google.colab.kernel.invokeFunction(\n",
              "            'suggestCharts', [key], {});\n",
              "      } catch (error) {\n",
              "        console.error('Error during call to suggestCharts:', error);\n",
              "      }\n",
              "      quickchartButtonEl.classList.remove('colab-df-spinner');\n",
              "      quickchartButtonEl.classList.add('colab-df-quickchart-complete');\n",
              "    }\n",
              "    (() => {\n",
              "      let quickchartButtonEl =\n",
              "        document.querySelector('#df-734e31f1-d149-4880-a2d6-8e7cf3f09fbc button');\n",
              "      quickchartButtonEl.style.display =\n",
              "        google.colab.kernel.accessAllowed ? 'block' : 'none';\n",
              "    })();\n",
              "  </script>\n",
              "</div>\n",
              "    </div>\n",
              "  </div>\n"
            ],
            "application/vnd.google.colaboratory.intrinsic+json": {
              "type": "dataframe",
              "summary": "{\n  \"name\": \"df\",\n  \"rows\": 107,\n  \"fields\": [\n    {\n      \"column\": \"anchor_ratio\",\n      \"properties\": {\n        \"dtype\": \"number\",\n        \"std\": 6,\n        \"min\": 10,\n        \"max\": 30,\n        \"num_unique_values\": 11,\n        \"samples\": [\n          29,\n          30,\n          28\n        ],\n        \"semantic_type\": \"\",\n        \"description\": \"\"\n      }\n    },\n    {\n      \"column\": \"trans_range\",\n      \"properties\": {\n        \"dtype\": \"number\",\n        \"std\": 3,\n        \"min\": 12,\n        \"max\": 25,\n        \"num_unique_values\": 8,\n        \"samples\": [\n          20,\n          17,\n          15\n        ],\n        \"semantic_type\": \"\",\n        \"description\": \"\"\n      }\n    },\n    {\n      \"column\": \"node_density\",\n      \"properties\": {\n        \"dtype\": \"number\",\n        \"std\": 71,\n        \"min\": 100,\n        \"max\": 300,\n        \"num_unique_values\": 3,\n        \"samples\": [\n          200,\n          100,\n          300\n        ],\n        \"semantic_type\": \"\",\n        \"description\": \"\"\n      }\n    },\n    {\n      \"column\": \"iterations\",\n      \"properties\": {\n        \"dtype\": \"number\",\n        \"std\": 24,\n        \"min\": 14,\n        \"max\": 100,\n        \"num_unique_values\": 22,\n        \"samples\": [\n          40,\n          80,\n          16\n        ],\n        \"semantic_type\": \"\",\n        \"description\": \"\"\n      }\n    },\n    {\n      \"column\": \"ale\",\n      \"properties\": {\n        \"dtype\": \"number\",\n        \"std\": 0.4083134846084346,\n        \"min\": 0.394028786,\n        \"max\": 2.568407259,\n        \"num_unique_values\": 107,\n        \"samples\": [\n          1.204298023,\n          0.694361186,\n          1.265909048\n        ],\n        \"semantic_type\": \"\",\n        \"description\": \"\"\n      }\n    }\n  ]\n}"
            }
          },
          "metadata": {},
          "execution_count": 12
        }
      ]
    },
    {
      "cell_type": "markdown",
      "source": [
        "### **I dropped the sd_ale column since it was just a computation of standard deviation of computed ALE, which is not the focus of this prediction model.**"
      ],
      "metadata": {
        "id": "moGNqdvtb9Jp"
      }
    },
    {
      "cell_type": "markdown",
      "source": [
        "# **Creation of neural network model & Saving Model in HDF5, JSON, and YAML format**"
      ],
      "metadata": {
        "id": "a1Pp2Sy2scX_"
      }
    },
    {
      "cell_type": "code",
      "source": [
        "# fix random seed for reproducibility\n",
        "numpy.random.seed(34)\n",
        "\n",
        "# Assigning input variables and target variable\n",
        "X = df.drop(columns=[\"ale\"])\n",
        "y = df[\"ale\"]\n",
        "\n",
        "# Splitting the data into training and testing sets\n",
        "X_train, X_test, y_train, y_test = train_test_split(X, y, test_size=0.30, random_state=34)\n",
        "\n",
        "\n",
        "# Scaling the input features using StandardScaler\n",
        "scaler = StandardScaler()\n",
        "X_train_scaled = scaler.fit_transform(X_train)\n",
        "X_test_scaled = scaler.transform(X_test)\n",
        "\n",
        "# Building the neural network model\n",
        "model = Sequential([\n",
        "    Dense(32, activation='relu', input_shape=(X_train_scaled.shape[1],)),\n",
        "    Dense(16, activation='relu'),\n",
        "    Dense(1)\n",
        "])\n",
        "\n",
        "# Compiling the model\n",
        "model.compile(optimizer='adam', loss='mean_squared_error')\n",
        "\n",
        "# Training the model\n",
        "model.fit(X_train_scaled, y_train, epochs=25, batch_size=32, verbose=0)\n",
        "\n",
        "# Evaluating the model using MSE and MAE\n",
        "y_pred_nn = model.predict(X_test_scaled).flatten()  # Flatten the predictions\n",
        "mse_nn = mean_squared_error(y_test, y_pred_nn)\n",
        "print(\"Mean Squared Error (Neural Network):\", mse_nn)\n",
        "mae_nn = mean_absolute_error(y_test, y_pred_nn)\n",
        "print(\"Mean Absolute Error (Neural Network):\", mae_nn)\n",
        "\n",
        "# serialize weights to HDF5\n",
        "model.save_weights(\"model.h5\")\n",
        "\n",
        "# serialize model to JSON\n",
        "model_json = model.to_json()\n",
        "with open(\"model.json\", \"w\") as json_file:\n",
        "    json_file.write(model_json)\n",
        "\n",
        "# serialize model to YAML\n",
        "model_yaml = model.to_json()\n",
        "with open(\"model.yaml\", \"w\") as yaml_file:\n",
        "    yaml_file.write(model_yaml)\n",
        "print(\"Model is saved to disk in HDF5, JSON, and YAML format\")"
      ],
      "metadata": {
        "colab": {
          "base_uri": "https://localhost:8080/"
        },
        "id": "UodWsLSmWBB4",
        "outputId": "7cc1300b-220f-49eb-a0ce-f6f8f7fd65ae"
      },
      "execution_count": null,
      "outputs": [
        {
          "output_type": "stream",
          "name": "stdout",
          "text": [
            "2/2 [==============================] - 0s 6ms/step\n",
            "Mean Squared Error (Neural Network): 0.12831850175328713\n",
            "Mean Absolute Error (Neural Network): 0.2706830960018282\n",
            "Model is saved to disk in HDF5, JSON, and YAML format\n"
          ]
        }
      ]
    },
    {
      "cell_type": "code",
      "source": [
        "#Saving model architecture to single file\n",
        "model.save(\"my_model.keras\")\n",
        "print(\"Saved model to disk\")"
      ],
      "metadata": {
        "colab": {
          "base_uri": "https://localhost:8080/"
        },
        "id": "4p6baC8YvAii",
        "outputId": "991022e8-3e0a-4635-e64f-4b46e311704e"
      },
      "execution_count": null,
      "outputs": [
        {
          "output_type": "stream",
          "name": "stdout",
          "text": [
            "Saved model to disk\n"
          ]
        }
      ]
    },
    {
      "cell_type": "markdown",
      "source": [
        "### This just for saving the entire model in my google colab directory so that I have a backup."
      ],
      "metadata": {
        "id": "sqUkvpoWcLoA"
      }
    },
    {
      "cell_type": "markdown",
      "source": [
        "# **Loading model in JSON and YAML format**"
      ],
      "metadata": {
        "id": "-0_vIKhjsoE7"
      }
    },
    {
      "cell_type": "code",
      "source": [
        "# load json and create model\n",
        "json_file = open('model.json', 'r')\n",
        "loaded_model_json = json_file.read()\n",
        "json_file.close()\n",
        "loaded_model = model_from_json(loaded_model_json)\n",
        "\n",
        "# Load JSON and create model\n",
        "with open('model.json', 'r') as json_file:\n",
        "    loaded_model_json = json_file.read()\n",
        "\n",
        "loaded_model = model_from_json(loaded_model_json)\n",
        "print(\"Model.json loaded from disk\")\n",
        "\n",
        "\n",
        "# Evaluating the model using MSE and MAE\n",
        "y_pred_nn = model.predict(X_test_scaled).flatten()  # Flatten the predictions\n",
        "mse_nn = mean_squared_error(y_test, y_pred_nn)\n",
        "print(\"Mean Squared Error (Neural Network):\", mse_nn)\n",
        "mae_nn = mean_absolute_error(y_test, y_pred_nn)\n",
        "print(\"Mean Absolute Error (Neural Network):\", mae_nn)"
      ],
      "metadata": {
        "colab": {
          "base_uri": "https://localhost:8080/"
        },
        "id": "AENaF_W4ZTMM",
        "outputId": "71a36835-f35f-44ec-d35b-76f323ec9b4f"
      },
      "execution_count": null,
      "outputs": [
        {
          "output_type": "stream",
          "name": "stdout",
          "text": [
            "Model.json loaded from disk\n",
            "2/2 [==============================] - 0s 7ms/step\n",
            "Mean Squared Error (Neural Network): 0.12831850175328713\n",
            "Mean Absolute Error (Neural Network): 0.2706830960018282\n"
          ]
        }
      ]
    },
    {
      "cell_type": "code",
      "source": [
        "# load YAML and create model\n",
        "yaml_file = open('model.yaml', 'r')\n",
        "loaded_model_yaml = yaml_file.read()\n",
        "yaml_file.close()\n",
        "loaded_model = model_from_json(loaded_model_yaml)\n",
        "\n",
        "# Load YAML and create model\n",
        "with open('model.yaml', 'r') as yaml_file:\n",
        "    loaded_model_yaml = yaml_file.read()\n",
        "\n",
        "loaded_model = model_from_json(loaded_model_yaml)\n",
        "print(\"Model.yaml loaded from disk\")\n",
        "\n",
        "# evaluate loaded model on test data\n",
        "# Evaluating the model using MSE and MAE\n",
        "y_pred_nn = model.predict(X_test_scaled).flatten()  # Flatten the predictions\n",
        "mse_nn = mean_squared_error(y_test, y_pred_nn)\n",
        "print(\"Mean Squared Error (Neural Network):\", mse_nn)\n",
        "mae_nn = mean_absolute_error(y_test, y_pred_nn)\n",
        "print(\"Mean Absolute Error (Neural Network):\", mae_nn)"
      ],
      "metadata": {
        "colab": {
          "base_uri": "https://localhost:8080/"
        },
        "id": "9ah7pUNRfmW3",
        "outputId": "fb1b3562-cac5-458f-eba2-da1ab44b83fa"
      },
      "execution_count": null,
      "outputs": [
        {
          "output_type": "stream",
          "name": "stdout",
          "text": [
            "Model.yaml loaded from disk\n",
            "2/2 [==============================] - 0s 6ms/step\n",
            "Mean Squared Error (Neural Network): 0.12831850175328713\n",
            "Mean Absolute Error (Neural Network): 0.2706830960018282\n"
          ]
        }
      ]
    },
    {
      "cell_type": "markdown",
      "source": [
        "# **Results:**\n",
        "\n",
        "## **Model Saved in HDF5, JSON, YAML format**\n"
      ],
      "metadata": {
        "id": "JJWELAJWip6x"
      }
    },
    {
      "cell_type": "markdown",
      "source": [
        "![image.png](data:image/png;base64,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)"
      ],
      "metadata": {
        "id": "cHk1gheTH_GU"
      }
    },
    {
      "cell_type": "code",
      "source": [
        "import json\n",
        "\n",
        "# Read the contents of the JSON file\n",
        "with open('model.json', 'r') as json_file:\n",
        "    model_json_content = json_file.read()\n",
        "\n",
        "# Parse the JSON content\n",
        "parsed_model_json = json.loads(model_json_content)\n",
        "\n",
        "# Print the parsed JSON content with indentation\n",
        "print(json.dumps(parsed_model_json, indent=4))"
      ],
      "metadata": {
        "colab": {
          "base_uri": "https://localhost:8080/"
        },
        "id": "NzvOVNAk0ndQ",
        "outputId": "21ce1cab-4dd2-457b-f771-2a4dfc22bc6f"
      },
      "execution_count": null,
      "outputs": [
        {
          "output_type": "stream",
          "name": "stdout",
          "text": [
            "{\n",
            "    \"class_name\": \"Sequential\",\n",
            "    \"config\": {\n",
            "        \"name\": \"sequential_98\",\n",
            "        \"layers\": [\n",
            "            {\n",
            "                \"module\": \"keras.layers\",\n",
            "                \"class_name\": \"InputLayer\",\n",
            "                \"config\": {\n",
            "                    \"batch_input_shape\": [\n",
            "                        null,\n",
            "                        5\n",
            "                    ],\n",
            "                    \"dtype\": \"float32\",\n",
            "                    \"sparse\": false,\n",
            "                    \"ragged\": false,\n",
            "                    \"name\": \"dense_295_input\"\n",
            "                },\n",
            "                \"registered_name\": null\n",
            "            },\n",
            "            {\n",
            "                \"module\": \"keras.layers\",\n",
            "                \"class_name\": \"Dense\",\n",
            "                \"config\": {\n",
            "                    \"name\": \"dense_295\",\n",
            "                    \"trainable\": true,\n",
            "                    \"dtype\": \"float32\",\n",
            "                    \"batch_input_shape\": [\n",
            "                        null,\n",
            "                        5\n",
            "                    ],\n",
            "                    \"units\": 32,\n",
            "                    \"activation\": \"relu\",\n",
            "                    \"use_bias\": true,\n",
            "                    \"kernel_initializer\": {\n",
            "                        \"module\": \"keras.initializers\",\n",
            "                        \"class_name\": \"GlorotUniform\",\n",
            "                        \"config\": {\n",
            "                            \"seed\": null\n",
            "                        },\n",
            "                        \"registered_name\": null\n",
            "                    },\n",
            "                    \"bias_initializer\": {\n",
            "                        \"module\": \"keras.initializers\",\n",
            "                        \"class_name\": \"Zeros\",\n",
            "                        \"config\": {},\n",
            "                        \"registered_name\": null\n",
            "                    },\n",
            "                    \"kernel_regularizer\": null,\n",
            "                    \"bias_regularizer\": null,\n",
            "                    \"activity_regularizer\": null,\n",
            "                    \"kernel_constraint\": null,\n",
            "                    \"bias_constraint\": null\n",
            "                },\n",
            "                \"registered_name\": null,\n",
            "                \"build_config\": {\n",
            "                    \"input_shape\": [\n",
            "                        null,\n",
            "                        5\n",
            "                    ]\n",
            "                }\n",
            "            },\n",
            "            {\n",
            "                \"module\": \"keras.layers\",\n",
            "                \"class_name\": \"Dense\",\n",
            "                \"config\": {\n",
            "                    \"name\": \"dense_296\",\n",
            "                    \"trainable\": true,\n",
            "                    \"dtype\": \"float32\",\n",
            "                    \"units\": 16,\n",
            "                    \"activation\": \"relu\",\n",
            "                    \"use_bias\": true,\n",
            "                    \"kernel_initializer\": {\n",
            "                        \"module\": \"keras.initializers\",\n",
            "                        \"class_name\": \"GlorotUniform\",\n",
            "                        \"config\": {\n",
            "                            \"seed\": null\n",
            "                        },\n",
            "                        \"registered_name\": null\n",
            "                    },\n",
            "                    \"bias_initializer\": {\n",
            "                        \"module\": \"keras.initializers\",\n",
            "                        \"class_name\": \"Zeros\",\n",
            "                        \"config\": {},\n",
            "                        \"registered_name\": null\n",
            "                    },\n",
            "                    \"kernel_regularizer\": null,\n",
            "                    \"bias_regularizer\": null,\n",
            "                    \"activity_regularizer\": null,\n",
            "                    \"kernel_constraint\": null,\n",
            "                    \"bias_constraint\": null\n",
            "                },\n",
            "                \"registered_name\": null,\n",
            "                \"build_config\": {\n",
            "                    \"input_shape\": [\n",
            "                        null,\n",
            "                        32\n",
            "                    ]\n",
            "                }\n",
            "            },\n",
            "            {\n",
            "                \"module\": \"keras.layers\",\n",
            "                \"class_name\": \"Dense\",\n",
            "                \"config\": {\n",
            "                    \"name\": \"dense_297\",\n",
            "                    \"trainable\": true,\n",
            "                    \"dtype\": \"float32\",\n",
            "                    \"units\": 1,\n",
            "                    \"activation\": \"linear\",\n",
            "                    \"use_bias\": true,\n",
            "                    \"kernel_initializer\": {\n",
            "                        \"module\": \"keras.initializers\",\n",
            "                        \"class_name\": \"GlorotUniform\",\n",
            "                        \"config\": {\n",
            "                            \"seed\": null\n",
            "                        },\n",
            "                        \"registered_name\": null\n",
            "                    },\n",
            "                    \"bias_initializer\": {\n",
            "                        \"module\": \"keras.initializers\",\n",
            "                        \"class_name\": \"Zeros\",\n",
            "                        \"config\": {},\n",
            "                        \"registered_name\": null\n",
            "                    },\n",
            "                    \"kernel_regularizer\": null,\n",
            "                    \"bias_regularizer\": null,\n",
            "                    \"activity_regularizer\": null,\n",
            "                    \"kernel_constraint\": null,\n",
            "                    \"bias_constraint\": null\n",
            "                },\n",
            "                \"registered_name\": null,\n",
            "                \"build_config\": {\n",
            "                    \"input_shape\": [\n",
            "                        null,\n",
            "                        16\n",
            "                    ]\n",
            "                }\n",
            "            }\n",
            "        ]\n",
            "    },\n",
            "    \"keras_version\": \"2.15.0\",\n",
            "    \"backend\": \"tensorflow\"\n",
            "}\n"
          ]
        }
      ]
    },
    {
      "cell_type": "code",
      "source": [
        "import yaml\n",
        "\n",
        "# Read the contents of the YAML file\n",
        "with open('model.yaml', 'r') as yaml_file:\n",
        "    model_yaml_content = yaml_file.read()\n",
        "\n",
        "# Parse the YAML content\n",
        "parsed_model_yaml = yaml.safe_load(model_yaml_content)\n",
        "\n",
        "# Print the parsed YAML content with indentation\n",
        "print(yaml.dump(parsed_model_yaml, indent=4))\n"
      ],
      "metadata": {
        "colab": {
          "base_uri": "https://localhost:8080/"
        },
        "id": "TvGn2i7C09Zb",
        "outputId": "2884faea-42aa-413a-8073-033e5bd5b667"
      },
      "execution_count": null,
      "outputs": [
        {
          "output_type": "stream",
          "name": "stdout",
          "text": [
            "backend: tensorflow\n",
            "class_name: Sequential\n",
            "config:\n",
            "    layers:\n",
            "    -   class_name: InputLayer\n",
            "        config:\n",
            "            batch_input_shape:\n",
            "            - null\n",
            "            - 5\n",
            "            dtype: float32\n",
            "            name: dense_295_input\n",
            "            ragged: false\n",
            "            sparse: false\n",
            "        module: keras.layers\n",
            "        registered_name: null\n",
            "    -   build_config:\n",
            "            input_shape:\n",
            "            - null\n",
            "            - 5\n",
            "        class_name: Dense\n",
            "        config:\n",
            "            activation: relu\n",
            "            activity_regularizer: null\n",
            "            batch_input_shape:\n",
            "            - null\n",
            "            - 5\n",
            "            bias_constraint: null\n",
            "            bias_initializer:\n",
            "                class_name: Zeros\n",
            "                config: {}\n",
            "                module: keras.initializers\n",
            "                registered_name: null\n",
            "            bias_regularizer: null\n",
            "            dtype: float32\n",
            "            kernel_constraint: null\n",
            "            kernel_initializer:\n",
            "                class_name: GlorotUniform\n",
            "                config:\n",
            "                    seed: null\n",
            "                module: keras.initializers\n",
            "                registered_name: null\n",
            "            kernel_regularizer: null\n",
            "            name: dense_295\n",
            "            trainable: true\n",
            "            units: 32\n",
            "            use_bias: true\n",
            "        module: keras.layers\n",
            "        registered_name: null\n",
            "    -   build_config:\n",
            "            input_shape:\n",
            "            - null\n",
            "            - 32\n",
            "        class_name: Dense\n",
            "        config:\n",
            "            activation: relu\n",
            "            activity_regularizer: null\n",
            "            bias_constraint: null\n",
            "            bias_initializer:\n",
            "                class_name: Zeros\n",
            "                config: {}\n",
            "                module: keras.initializers\n",
            "                registered_name: null\n",
            "            bias_regularizer: null\n",
            "            dtype: float32\n",
            "            kernel_constraint: null\n",
            "            kernel_initializer:\n",
            "                class_name: GlorotUniform\n",
            "                config:\n",
            "                    seed: null\n",
            "                module: keras.initializers\n",
            "                registered_name: null\n",
            "            kernel_regularizer: null\n",
            "            name: dense_296\n",
            "            trainable: true\n",
            "            units: 16\n",
            "            use_bias: true\n",
            "        module: keras.layers\n",
            "        registered_name: null\n",
            "    -   build_config:\n",
            "            input_shape:\n",
            "            - null\n",
            "            - 16\n",
            "        class_name: Dense\n",
            "        config:\n",
            "            activation: linear\n",
            "            activity_regularizer: null\n",
            "            bias_constraint: null\n",
            "            bias_initializer:\n",
            "                class_name: Zeros\n",
            "                config: {}\n",
            "                module: keras.initializers\n",
            "                registered_name: null\n",
            "            bias_regularizer: null\n",
            "            dtype: float32\n",
            "            kernel_constraint: null\n",
            "            kernel_initializer:\n",
            "                class_name: GlorotUniform\n",
            "                config:\n",
            "                    seed: null\n",
            "                module: keras.initializers\n",
            "                registered_name: null\n",
            "            kernel_regularizer: null\n",
            "            name: dense_297\n",
            "            trainable: true\n",
            "            units: 1\n",
            "            use_bias: true\n",
            "        module: keras.layers\n",
            "        registered_name: null\n",
            "    name: sequential_98\n",
            "keras_version: 2.15.0\n",
            "\n"
          ]
        }
      ]
    },
    {
      "cell_type": "markdown",
      "source": [
        "## **Loaded both in a JSON and YAML format**"
      ],
      "metadata": {
        "id": "xRSWAAu6qpTH"
      }
    },
    {
      "cell_type": "markdown",
      "source": [
        "![image.png](data:image/png;base64,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)"
      ],
      "metadata": {
        "id": "apvIExizHtvX"
      }
    },
    {
      "cell_type": "markdown",
      "source": [
        "![image.png](data:image/png;base64,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)"
      ],
      "metadata": {
        "id": "VPVMW6JhH1L9"
      }
    },
    {
      "cell_type": "markdown",
      "source": [
        "# **Checkpoint Neural Network Model Improvements**"
      ],
      "metadata": {
        "id": "Ks2UA8k7v5pq"
      }
    },
    {
      "cell_type": "code",
      "source": [
        "# Checkpoint the weights when validation loss improves\n",
        "from keras.models import Sequential\n",
        "from keras.layers import Dense\n",
        "from keras.callbacks import ModelCheckpoint\n",
        "import matplotlib.pyplot as plt\n",
        "import numpy as np\n",
        "import tensorflow as tf\n",
        "seed = 34\n",
        "tf.random.set_seed(seed)\n",
        "\n",
        "# Checkpoint\n",
        "filepath=\"weights-improvement-{epoch:02d}-{loss:.2f}.keras\"\n",
        "checkpoint = ModelCheckpoint(filepath, monitor='loss', verbose=1, save_best_only=True, mode='min')\n",
        "callbacks_list = [checkpoint]\n",
        "\n",
        "# Fit the model\n",
        "model.fit(X_test_scaled, y_test, validation_split=0.33, epochs=150, batch_size=10, callbacks=callbacks_list, verbose=0)"
      ],
      "metadata": {
        "colab": {
          "base_uri": "https://localhost:8080/"
        },
        "id": "ZeEF9T7Rs03L",
        "outputId": "5ed44c0c-1b18-47e0-c1ca-7ea6b9718b7f"
      },
      "execution_count": null,
      "outputs": [
        {
          "output_type": "stream",
          "name": "stdout",
          "text": [
            "\n",
            "Epoch 1: loss improved from inf to 0.10799, saving model to weights-improvement-01-0.11.keras\n",
            "\n",
            "Epoch 2: loss improved from 0.10799 to 0.10122, saving model to weights-improvement-02-0.10.keras\n",
            "\n",
            "Epoch 3: loss improved from 0.10122 to 0.09514, saving model to weights-improvement-03-0.10.keras\n",
            "\n",
            "Epoch 4: loss improved from 0.09514 to 0.08706, saving model to weights-improvement-04-0.09.keras\n",
            "\n",
            "Epoch 5: loss improved from 0.08706 to 0.07975, saving model to weights-improvement-05-0.08.keras\n",
            "\n",
            "Epoch 6: loss improved from 0.07975 to 0.07434, saving model to weights-improvement-06-0.07.keras\n",
            "\n",
            "Epoch 7: loss improved from 0.07434 to 0.06995, saving model to weights-improvement-07-0.07.keras\n",
            "\n",
            "Epoch 8: loss improved from 0.06995 to 0.06616, saving model to weights-improvement-08-0.07.keras\n",
            "\n",
            "Epoch 9: loss improved from 0.06616 to 0.06281, saving model to weights-improvement-09-0.06.keras\n",
            "\n",
            "Epoch 10: loss improved from 0.06281 to 0.05952, saving model to weights-improvement-10-0.06.keras\n",
            "\n",
            "Epoch 11: loss improved from 0.05952 to 0.05606, saving model to weights-improvement-11-0.06.keras\n",
            "\n",
            "Epoch 12: loss improved from 0.05606 to 0.05359, saving model to weights-improvement-12-0.05.keras\n",
            "\n",
            "Epoch 13: loss improved from 0.05359 to 0.05143, saving model to weights-improvement-13-0.05.keras\n",
            "\n",
            "Epoch 14: loss improved from 0.05143 to 0.04845, saving model to weights-improvement-14-0.05.keras\n",
            "\n",
            "Epoch 15: loss improved from 0.04845 to 0.04600, saving model to weights-improvement-15-0.05.keras\n",
            "\n",
            "Epoch 16: loss improved from 0.04600 to 0.04332, saving model to weights-improvement-16-0.04.keras\n",
            "\n",
            "Epoch 17: loss improved from 0.04332 to 0.04160, saving model to weights-improvement-17-0.04.keras\n",
            "\n",
            "Epoch 18: loss improved from 0.04160 to 0.03999, saving model to weights-improvement-18-0.04.keras\n",
            "\n",
            "Epoch 19: loss improved from 0.03999 to 0.03803, saving model to weights-improvement-19-0.04.keras\n",
            "\n",
            "Epoch 20: loss improved from 0.03803 to 0.03636, saving model to weights-improvement-20-0.04.keras\n",
            "\n",
            "Epoch 21: loss improved from 0.03636 to 0.03440, saving model to weights-improvement-21-0.03.keras\n",
            "\n",
            "Epoch 22: loss improved from 0.03440 to 0.03368, saving model to weights-improvement-22-0.03.keras\n",
            "\n",
            "Epoch 23: loss improved from 0.03368 to 0.03154, saving model to weights-improvement-23-0.03.keras\n",
            "\n",
            "Epoch 24: loss improved from 0.03154 to 0.03037, saving model to weights-improvement-24-0.03.keras\n",
            "\n",
            "Epoch 25: loss improved from 0.03037 to 0.02863, saving model to weights-improvement-25-0.03.keras\n",
            "\n",
            "Epoch 26: loss improved from 0.02863 to 0.02734, saving model to weights-improvement-26-0.03.keras\n",
            "\n",
            "Epoch 27: loss improved from 0.02734 to 0.02615, saving model to weights-improvement-27-0.03.keras\n",
            "\n",
            "Epoch 28: loss improved from 0.02615 to 0.02507, saving model to weights-improvement-28-0.03.keras\n",
            "\n",
            "Epoch 29: loss improved from 0.02507 to 0.02427, saving model to weights-improvement-29-0.02.keras\n",
            "\n",
            "Epoch 30: loss improved from 0.02427 to 0.02373, saving model to weights-improvement-30-0.02.keras\n",
            "\n",
            "Epoch 31: loss improved from 0.02373 to 0.02286, saving model to weights-improvement-31-0.02.keras\n",
            "\n",
            "Epoch 32: loss improved from 0.02286 to 0.02229, saving model to weights-improvement-32-0.02.keras\n",
            "\n",
            "Epoch 33: loss improved from 0.02229 to 0.02172, saving model to weights-improvement-33-0.02.keras\n",
            "\n",
            "Epoch 34: loss improved from 0.02172 to 0.02086, saving model to weights-improvement-34-0.02.keras\n",
            "\n",
            "Epoch 35: loss improved from 0.02086 to 0.02014, saving model to weights-improvement-35-0.02.keras\n",
            "\n",
            "Epoch 36: loss improved from 0.02014 to 0.01966, saving model to weights-improvement-36-0.02.keras\n",
            "\n",
            "Epoch 37: loss improved from 0.01966 to 0.01921, saving model to weights-improvement-37-0.02.keras\n",
            "\n",
            "Epoch 38: loss improved from 0.01921 to 0.01852, saving model to weights-improvement-38-0.02.keras\n",
            "\n",
            "Epoch 39: loss improved from 0.01852 to 0.01798, saving model to weights-improvement-39-0.02.keras\n",
            "\n",
            "Epoch 40: loss improved from 0.01798 to 0.01748, saving model to weights-improvement-40-0.02.keras\n",
            "\n",
            "Epoch 41: loss improved from 0.01748 to 0.01707, saving model to weights-improvement-41-0.02.keras\n",
            "\n",
            "Epoch 42: loss improved from 0.01707 to 0.01685, saving model to weights-improvement-42-0.02.keras\n",
            "\n",
            "Epoch 43: loss improved from 0.01685 to 0.01626, saving model to weights-improvement-43-0.02.keras\n",
            "\n",
            "Epoch 44: loss improved from 0.01626 to 0.01572, saving model to weights-improvement-44-0.02.keras\n",
            "\n",
            "Epoch 45: loss improved from 0.01572 to 0.01516, saving model to weights-improvement-45-0.02.keras\n",
            "\n",
            "Epoch 46: loss did not improve from 0.01516\n",
            "\n",
            "Epoch 47: loss did not improve from 0.01516\n",
            "\n",
            "Epoch 48: loss improved from 0.01516 to 0.01407, saving model to weights-improvement-48-0.01.keras\n",
            "\n",
            "Epoch 49: loss improved from 0.01407 to 0.01375, saving model to weights-improvement-49-0.01.keras\n",
            "\n",
            "Epoch 50: loss improved from 0.01375 to 0.01300, saving model to weights-improvement-50-0.01.keras\n",
            "\n",
            "Epoch 51: loss improved from 0.01300 to 0.01295, saving model to weights-improvement-51-0.01.keras\n",
            "\n",
            "Epoch 52: loss improved from 0.01295 to 0.01267, saving model to weights-improvement-52-0.01.keras\n",
            "\n",
            "Epoch 53: loss improved from 0.01267 to 0.01232, saving model to weights-improvement-53-0.01.keras\n",
            "\n",
            "Epoch 54: loss improved from 0.01232 to 0.01189, saving model to weights-improvement-54-0.01.keras\n",
            "\n",
            "Epoch 55: loss improved from 0.01189 to 0.01147, saving model to weights-improvement-55-0.01.keras\n",
            "\n",
            "Epoch 56: loss improved from 0.01147 to 0.01121, saving model to weights-improvement-56-0.01.keras\n",
            "\n",
            "Epoch 57: loss improved from 0.01121 to 0.01086, saving model to weights-improvement-57-0.01.keras\n",
            "\n",
            "Epoch 58: loss improved from 0.01086 to 0.01066, saving model to weights-improvement-58-0.01.keras\n",
            "\n",
            "Epoch 59: loss improved from 0.01066 to 0.01051, saving model to weights-improvement-59-0.01.keras\n",
            "\n",
            "Epoch 60: loss improved from 0.01051 to 0.01021, saving model to weights-improvement-60-0.01.keras\n",
            "\n",
            "Epoch 61: loss improved from 0.01021 to 0.01001, saving model to weights-improvement-61-0.01.keras\n",
            "\n",
            "Epoch 62: loss improved from 0.01001 to 0.00979, saving model to weights-improvement-62-0.01.keras\n",
            "\n",
            "Epoch 63: loss improved from 0.00979 to 0.00961, saving model to weights-improvement-63-0.01.keras\n",
            "\n",
            "Epoch 64: loss improved from 0.00961 to 0.00931, saving model to weights-improvement-64-0.01.keras\n",
            "\n",
            "Epoch 65: loss improved from 0.00931 to 0.00921, saving model to weights-improvement-65-0.01.keras\n",
            "\n",
            "Epoch 66: loss improved from 0.00921 to 0.00876, saving model to weights-improvement-66-0.01.keras\n",
            "\n",
            "Epoch 67: loss improved from 0.00876 to 0.00851, saving model to weights-improvement-67-0.01.keras\n",
            "\n",
            "Epoch 68: loss improved from 0.00851 to 0.00833, saving model to weights-improvement-68-0.01.keras\n",
            "\n",
            "Epoch 69: loss improved from 0.00833 to 0.00823, saving model to weights-improvement-69-0.01.keras\n",
            "\n",
            "Epoch 70: loss improved from 0.00823 to 0.00798, saving model to weights-improvement-70-0.01.keras\n",
            "\n",
            "Epoch 71: loss improved from 0.00798 to 0.00781, saving model to weights-improvement-71-0.01.keras\n",
            "\n",
            "Epoch 72: loss improved from 0.00781 to 0.00759, saving model to weights-improvement-72-0.01.keras\n",
            "\n",
            "Epoch 73: loss improved from 0.00759 to 0.00737, saving model to weights-improvement-73-0.01.keras\n",
            "\n",
            "Epoch 74: loss improved from 0.00737 to 0.00724, saving model to weights-improvement-74-0.01.keras\n",
            "\n",
            "Epoch 75: loss improved from 0.00724 to 0.00695, saving model to weights-improvement-75-0.01.keras\n",
            "\n",
            "Epoch 76: loss improved from 0.00695 to 0.00674, saving model to weights-improvement-76-0.01.keras\n",
            "\n",
            "Epoch 77: loss improved from 0.00674 to 0.00650, saving model to weights-improvement-77-0.01.keras\n",
            "\n",
            "Epoch 78: loss improved from 0.00650 to 0.00640, saving model to weights-improvement-78-0.01.keras\n",
            "\n",
            "Epoch 79: loss improved from 0.00640 to 0.00628, saving model to weights-improvement-79-0.01.keras\n",
            "\n",
            "Epoch 80: loss improved from 0.00628 to 0.00613, saving model to weights-improvement-80-0.01.keras\n",
            "\n",
            "Epoch 81: loss improved from 0.00613 to 0.00599, saving model to weights-improvement-81-0.01.keras\n",
            "\n",
            "Epoch 82: loss improved from 0.00599 to 0.00581, saving model to weights-improvement-82-0.01.keras\n",
            "\n",
            "Epoch 83: loss improved from 0.00581 to 0.00565, saving model to weights-improvement-83-0.01.keras\n",
            "\n",
            "Epoch 84: loss improved from 0.00565 to 0.00542, saving model to weights-improvement-84-0.01.keras\n",
            "\n",
            "Epoch 85: loss improved from 0.00542 to 0.00533, saving model to weights-improvement-85-0.01.keras\n",
            "\n",
            "Epoch 86: loss did not improve from 0.00533\n",
            "\n",
            "Epoch 87: loss improved from 0.00533 to 0.00518, saving model to weights-improvement-87-0.01.keras\n",
            "\n",
            "Epoch 88: loss improved from 0.00518 to 0.00499, saving model to weights-improvement-88-0.00.keras\n",
            "\n",
            "Epoch 89: loss improved from 0.00499 to 0.00496, saving model to weights-improvement-89-0.00.keras\n",
            "\n",
            "Epoch 90: loss improved from 0.00496 to 0.00481, saving model to weights-improvement-90-0.00.keras\n",
            "\n",
            "Epoch 91: loss improved from 0.00481 to 0.00466, saving model to weights-improvement-91-0.00.keras\n",
            "\n",
            "Epoch 92: loss improved from 0.00466 to 0.00459, saving model to weights-improvement-92-0.00.keras\n",
            "\n",
            "Epoch 93: loss improved from 0.00459 to 0.00435, saving model to weights-improvement-93-0.00.keras\n",
            "\n",
            "Epoch 94: loss improved from 0.00435 to 0.00427, saving model to weights-improvement-94-0.00.keras\n",
            "\n",
            "Epoch 95: loss improved from 0.00427 to 0.00417, saving model to weights-improvement-95-0.00.keras\n",
            "\n",
            "Epoch 96: loss improved from 0.00417 to 0.00407, saving model to weights-improvement-96-0.00.keras\n",
            "\n",
            "Epoch 97: loss improved from 0.00407 to 0.00397, saving model to weights-improvement-97-0.00.keras\n",
            "\n",
            "Epoch 98: loss improved from 0.00397 to 0.00388, saving model to weights-improvement-98-0.00.keras\n",
            "\n",
            "Epoch 99: loss improved from 0.00388 to 0.00379, saving model to weights-improvement-99-0.00.keras\n",
            "\n",
            "Epoch 100: loss did not improve from 0.00379\n",
            "\n",
            "Epoch 101: loss improved from 0.00379 to 0.00363, saving model to weights-improvement-101-0.00.keras\n",
            "\n",
            "Epoch 102: loss did not improve from 0.00363\n",
            "\n",
            "Epoch 103: loss improved from 0.00363 to 0.00356, saving model to weights-improvement-103-0.00.keras\n",
            "\n",
            "Epoch 104: loss improved from 0.00356 to 0.00346, saving model to weights-improvement-104-0.00.keras\n",
            "\n",
            "Epoch 105: loss did not improve from 0.00346\n",
            "\n",
            "Epoch 106: loss improved from 0.00346 to 0.00336, saving model to weights-improvement-106-0.00.keras\n",
            "\n",
            "Epoch 107: loss improved from 0.00336 to 0.00321, saving model to weights-improvement-107-0.00.keras\n",
            "\n",
            "Epoch 108: loss improved from 0.00321 to 0.00316, saving model to weights-improvement-108-0.00.keras\n",
            "\n",
            "Epoch 109: loss improved from 0.00316 to 0.00309, saving model to weights-improvement-109-0.00.keras\n",
            "\n",
            "Epoch 110: loss improved from 0.00309 to 0.00304, saving model to weights-improvement-110-0.00.keras\n",
            "\n",
            "Epoch 111: loss improved from 0.00304 to 0.00294, saving model to weights-improvement-111-0.00.keras\n",
            "\n",
            "Epoch 112: loss improved from 0.00294 to 0.00287, saving model to weights-improvement-112-0.00.keras\n",
            "\n",
            "Epoch 113: loss improved from 0.00287 to 0.00283, saving model to weights-improvement-113-0.00.keras\n",
            "\n",
            "Epoch 114: loss improved from 0.00283 to 0.00278, saving model to weights-improvement-114-0.00.keras\n",
            "\n",
            "Epoch 115: loss improved from 0.00278 to 0.00275, saving model to weights-improvement-115-0.00.keras\n",
            "\n",
            "Epoch 116: loss improved from 0.00275 to 0.00260, saving model to weights-improvement-116-0.00.keras\n",
            "\n",
            "Epoch 117: loss did not improve from 0.00260\n",
            "\n",
            "Epoch 118: loss did not improve from 0.00260\n",
            "\n",
            "Epoch 119: loss did not improve from 0.00260\n",
            "\n",
            "Epoch 120: loss did not improve from 0.00260\n",
            "\n",
            "Epoch 121: loss improved from 0.00260 to 0.00246, saving model to weights-improvement-121-0.00.keras\n",
            "\n",
            "Epoch 122: loss did not improve from 0.00246\n",
            "\n",
            "Epoch 123: loss improved from 0.00246 to 0.00240, saving model to weights-improvement-123-0.00.keras\n",
            "\n",
            "Epoch 124: loss improved from 0.00240 to 0.00230, saving model to weights-improvement-124-0.00.keras\n",
            "\n",
            "Epoch 125: loss improved from 0.00230 to 0.00230, saving model to weights-improvement-125-0.00.keras\n",
            "\n",
            "Epoch 126: loss did not improve from 0.00230\n",
            "\n",
            "Epoch 127: loss improved from 0.00230 to 0.00220, saving model to weights-improvement-127-0.00.keras\n",
            "\n",
            "Epoch 128: loss improved from 0.00220 to 0.00215, saving model to weights-improvement-128-0.00.keras\n",
            "\n",
            "Epoch 129: loss did not improve from 0.00215\n",
            "\n",
            "Epoch 130: loss improved from 0.00215 to 0.00212, saving model to weights-improvement-130-0.00.keras\n",
            "\n",
            "Epoch 131: loss improved from 0.00212 to 0.00202, saving model to weights-improvement-131-0.00.keras\n",
            "\n",
            "Epoch 132: loss improved from 0.00202 to 0.00194, saving model to weights-improvement-132-0.00.keras\n",
            "\n",
            "Epoch 133: loss improved from 0.00194 to 0.00189, saving model to weights-improvement-133-0.00.keras\n",
            "\n",
            "Epoch 134: loss did not improve from 0.00189\n",
            "\n",
            "Epoch 135: loss did not improve from 0.00189\n",
            "\n",
            "Epoch 136: loss improved from 0.00189 to 0.00182, saving model to weights-improvement-136-0.00.keras\n",
            "\n",
            "Epoch 137: loss improved from 0.00182 to 0.00170, saving model to weights-improvement-137-0.00.keras\n",
            "\n",
            "Epoch 138: loss did not improve from 0.00170\n",
            "\n",
            "Epoch 139: loss improved from 0.00170 to 0.00167, saving model to weights-improvement-139-0.00.keras\n",
            "\n",
            "Epoch 140: loss improved from 0.00167 to 0.00159, saving model to weights-improvement-140-0.00.keras\n",
            "\n",
            "Epoch 141: loss improved from 0.00159 to 0.00157, saving model to weights-improvement-141-0.00.keras\n",
            "\n",
            "Epoch 142: loss improved from 0.00157 to 0.00157, saving model to weights-improvement-142-0.00.keras\n",
            "\n",
            "Epoch 143: loss improved from 0.00157 to 0.00150, saving model to weights-improvement-143-0.00.keras\n",
            "\n",
            "Epoch 144: loss improved from 0.00150 to 0.00145, saving model to weights-improvement-144-0.00.keras\n",
            "\n",
            "Epoch 145: loss improved from 0.00145 to 0.00143, saving model to weights-improvement-145-0.00.keras\n",
            "\n",
            "Epoch 146: loss improved from 0.00143 to 0.00143, saving model to weights-improvement-146-0.00.keras\n",
            "\n",
            "Epoch 147: loss improved from 0.00143 to 0.00140, saving model to weights-improvement-147-0.00.keras\n",
            "\n",
            "Epoch 148: loss improved from 0.00140 to 0.00139, saving model to weights-improvement-148-0.00.keras\n",
            "\n",
            "Epoch 149: loss improved from 0.00139 to 0.00136, saving model to weights-improvement-149-0.00.keras\n",
            "\n",
            "Epoch 150: loss improved from 0.00136 to 0.00129, saving model to weights-improvement-150-0.00.keras\n"
          ]
        },
        {
          "output_type": "execute_result",
          "data": {
            "text/plain": [
              "<keras.src.callbacks.History at 0x7c356428a830>"
            ]
          },
          "metadata": {},
          "execution_count": 185
        }
      ]
    },
    {
      "cell_type": "markdown",
      "source": [
        "## **Checkpoint Evaluation:**  The process involved training a model to learn from the provided data over 150 epochs of training. Through checkpointing, training appears successful, as the loss consistently decreases over the epochs, indicating that the model is learning and improving its performance. However, there are instances where the loss does not improve or only marginally improves, which is normal during the training process. Overall, the model seems to be converging well, achieving a low final loss value, which suggests it may perform effectively for its intended task.\n",
        "\n",
        "## Also, I encountered a warning that instead of using .hdf5 in the filepath, I should use .keras since the current installed library and packages works best if I used .keras instead of .hdf5"
      ],
      "metadata": {
        "id": "gX5B4IS21W5v"
      }
    },
    {
      "cell_type": "markdown",
      "source": [
        "# **Checkpoint Best Neural Network Model Only**"
      ],
      "metadata": {
        "id": "CihpszFm6nYl"
      }
    },
    {
      "cell_type": "code",
      "source": [
        "# Checkpoint\n",
        "filepath=\"weights.best.keras\"\n",
        "checkpoint = ModelCheckpoint(filepath, monitor='loss', verbose=1, save_best_only=True, mode='min')\n",
        "callbacks_list = [checkpoint]\n",
        "# Fit the model\n",
        "model.fit(X_test_scaled, y_test, validation_split=0.33, epochs=150, batch_size=10, callbacks=callbacks_list, verbose=0)"
      ],
      "metadata": {
        "id": "S_1VH9__1V2o",
        "colab": {
          "base_uri": "https://localhost:8080/"
        },
        "outputId": "c2d60e7a-f64c-4c40-dd3c-250cbbc202e5"
      },
      "execution_count": null,
      "outputs": [
        {
          "output_type": "stream",
          "name": "stdout",
          "text": [
            "\n",
            "Epoch 1: loss improved from inf to 0.00130, saving model to weights.best.keras\n",
            "\n",
            "Epoch 2: loss did not improve from 0.00130\n",
            "\n",
            "Epoch 3: loss did not improve from 0.00130\n",
            "\n",
            "Epoch 4: loss did not improve from 0.00130\n",
            "\n",
            "Epoch 5: loss improved from 0.00130 to 0.00126, saving model to weights.best.keras\n",
            "\n",
            "Epoch 6: loss improved from 0.00126 to 0.00124, saving model to weights.best.keras\n",
            "\n",
            "Epoch 7: loss improved from 0.00124 to 0.00120, saving model to weights.best.keras\n",
            "\n",
            "Epoch 8: loss improved from 0.00120 to 0.00119, saving model to weights.best.keras\n",
            "\n",
            "Epoch 9: loss improved from 0.00119 to 0.00111, saving model to weights.best.keras\n",
            "\n",
            "Epoch 10: loss improved from 0.00111 to 0.00107, saving model to weights.best.keras\n",
            "\n",
            "Epoch 11: loss improved from 0.00107 to 0.00106, saving model to weights.best.keras\n",
            "\n",
            "Epoch 12: loss improved from 0.00106 to 0.00102, saving model to weights.best.keras\n",
            "\n",
            "Epoch 13: loss improved from 0.00102 to 0.00101, saving model to weights.best.keras\n",
            "\n",
            "Epoch 14: loss improved from 0.00101 to 0.00099, saving model to weights.best.keras\n",
            "\n",
            "Epoch 15: loss improved from 0.00099 to 0.00097, saving model to weights.best.keras\n",
            "\n",
            "Epoch 16: loss improved from 0.00097 to 0.00093, saving model to weights.best.keras\n",
            "\n",
            "Epoch 17: loss improved from 0.00093 to 0.00090, saving model to weights.best.keras\n",
            "\n",
            "Epoch 18: loss improved from 0.00090 to 0.00089, saving model to weights.best.keras\n",
            "\n",
            "Epoch 19: loss improved from 0.00089 to 0.00087, saving model to weights.best.keras\n",
            "\n",
            "Epoch 20: loss improved from 0.00087 to 0.00086, saving model to weights.best.keras\n",
            "\n",
            "Epoch 21: loss improved from 0.00086 to 0.00085, saving model to weights.best.keras\n",
            "\n",
            "Epoch 22: loss improved from 0.00085 to 0.00084, saving model to weights.best.keras\n",
            "\n",
            "Epoch 23: loss did not improve from 0.00084\n",
            "\n",
            "Epoch 24: loss improved from 0.00084 to 0.00083, saving model to weights.best.keras\n",
            "\n",
            "Epoch 25: loss improved from 0.00083 to 0.00079, saving model to weights.best.keras\n",
            "\n",
            "Epoch 26: loss improved from 0.00079 to 0.00077, saving model to weights.best.keras\n",
            "\n",
            "Epoch 27: loss did not improve from 0.00077\n",
            "\n",
            "Epoch 28: loss did not improve from 0.00077\n",
            "\n",
            "Epoch 29: loss improved from 0.00077 to 0.00076, saving model to weights.best.keras\n",
            "\n",
            "Epoch 30: loss did not improve from 0.00076\n",
            "\n",
            "Epoch 31: loss improved from 0.00076 to 0.00073, saving model to weights.best.keras\n",
            "\n",
            "Epoch 32: loss improved from 0.00073 to 0.00072, saving model to weights.best.keras\n",
            "\n",
            "Epoch 33: loss did not improve from 0.00072\n",
            "\n",
            "Epoch 34: loss improved from 0.00072 to 0.00069, saving model to weights.best.keras\n",
            "\n",
            "Epoch 35: loss did not improve from 0.00069\n",
            "\n",
            "Epoch 36: loss did not improve from 0.00069\n",
            "\n",
            "Epoch 37: loss improved from 0.00069 to 0.00069, saving model to weights.best.keras\n",
            "\n",
            "Epoch 38: loss improved from 0.00069 to 0.00064, saving model to weights.best.keras\n",
            "\n",
            "Epoch 39: loss did not improve from 0.00064\n",
            "\n",
            "Epoch 40: loss improved from 0.00064 to 0.00064, saving model to weights.best.keras\n",
            "\n",
            "Epoch 41: loss did not improve from 0.00064\n",
            "\n",
            "Epoch 42: loss did not improve from 0.00064\n",
            "\n",
            "Epoch 43: loss did not improve from 0.00064\n",
            "\n",
            "Epoch 44: loss did not improve from 0.00064\n",
            "\n",
            "Epoch 45: loss did not improve from 0.00064\n",
            "\n",
            "Epoch 46: loss did not improve from 0.00064\n",
            "\n",
            "Epoch 47: loss improved from 0.00064 to 0.00063, saving model to weights.best.keras\n",
            "\n",
            "Epoch 48: loss improved from 0.00063 to 0.00059, saving model to weights.best.keras\n",
            "\n",
            "Epoch 49: loss improved from 0.00059 to 0.00058, saving model to weights.best.keras\n",
            "\n",
            "Epoch 50: loss improved from 0.00058 to 0.00054, saving model to weights.best.keras\n",
            "\n",
            "Epoch 51: loss did not improve from 0.00054\n",
            "\n",
            "Epoch 52: loss did not improve from 0.00054\n",
            "\n",
            "Epoch 53: loss improved from 0.00054 to 0.00054, saving model to weights.best.keras\n",
            "\n",
            "Epoch 54: loss improved from 0.00054 to 0.00051, saving model to weights.best.keras\n",
            "\n",
            "Epoch 55: loss did not improve from 0.00051\n",
            "\n",
            "Epoch 56: loss did not improve from 0.00051\n",
            "\n",
            "Epoch 57: loss did not improve from 0.00051\n",
            "\n",
            "Epoch 58: loss improved from 0.00051 to 0.00051, saving model to weights.best.keras\n",
            "\n",
            "Epoch 59: loss improved from 0.00051 to 0.00048, saving model to weights.best.keras\n",
            "\n",
            "Epoch 60: loss improved from 0.00048 to 0.00048, saving model to weights.best.keras\n",
            "\n",
            "Epoch 61: loss did not improve from 0.00048\n",
            "\n",
            "Epoch 62: loss did not improve from 0.00048\n",
            "\n",
            "Epoch 63: loss did not improve from 0.00048\n",
            "\n",
            "Epoch 64: loss did not improve from 0.00048\n",
            "\n",
            "Epoch 65: loss improved from 0.00048 to 0.00047, saving model to weights.best.keras\n",
            "\n",
            "Epoch 66: loss improved from 0.00047 to 0.00046, saving model to weights.best.keras\n",
            "\n",
            "Epoch 67: loss did not improve from 0.00046\n",
            "\n",
            "Epoch 68: loss did not improve from 0.00046\n",
            "\n",
            "Epoch 69: loss improved from 0.00046 to 0.00046, saving model to weights.best.keras\n",
            "\n",
            "Epoch 70: loss improved from 0.00046 to 0.00045, saving model to weights.best.keras\n",
            "\n",
            "Epoch 71: loss improved from 0.00045 to 0.00044, saving model to weights.best.keras\n",
            "\n",
            "Epoch 72: loss improved from 0.00044 to 0.00042, saving model to weights.best.keras\n",
            "\n",
            "Epoch 73: loss improved from 0.00042 to 0.00042, saving model to weights.best.keras\n",
            "\n",
            "Epoch 74: loss did not improve from 0.00042\n",
            "\n",
            "Epoch 75: loss did not improve from 0.00042\n",
            "\n",
            "Epoch 76: loss did not improve from 0.00042\n",
            "\n",
            "Epoch 77: loss improved from 0.00042 to 0.00042, saving model to weights.best.keras\n",
            "\n",
            "Epoch 78: loss improved from 0.00042 to 0.00040, saving model to weights.best.keras\n",
            "\n",
            "Epoch 79: loss improved from 0.00040 to 0.00040, saving model to weights.best.keras\n",
            "\n",
            "Epoch 80: loss improved from 0.00040 to 0.00040, saving model to weights.best.keras\n",
            "\n",
            "Epoch 81: loss improved from 0.00040 to 0.00039, saving model to weights.best.keras\n",
            "\n",
            "Epoch 82: loss improved from 0.00039 to 0.00038, saving model to weights.best.keras\n",
            "\n",
            "Epoch 83: loss improved from 0.00038 to 0.00038, saving model to weights.best.keras\n",
            "\n",
            "Epoch 84: loss improved from 0.00038 to 0.00038, saving model to weights.best.keras\n",
            "\n",
            "Epoch 85: loss improved from 0.00038 to 0.00037, saving model to weights.best.keras\n",
            "\n",
            "Epoch 86: loss improved from 0.00037 to 0.00036, saving model to weights.best.keras\n",
            "\n",
            "Epoch 87: loss improved from 0.00036 to 0.00036, saving model to weights.best.keras\n",
            "\n",
            "Epoch 88: loss improved from 0.00036 to 0.00036, saving model to weights.best.keras\n",
            "\n",
            "Epoch 89: loss improved from 0.00036 to 0.00036, saving model to weights.best.keras\n",
            "\n",
            "Epoch 90: loss did not improve from 0.00036\n",
            "\n",
            "Epoch 91: loss did not improve from 0.00036\n",
            "\n",
            "Epoch 92: loss did not improve from 0.00036\n",
            "\n",
            "Epoch 93: loss improved from 0.00036 to 0.00035, saving model to weights.best.keras\n",
            "\n",
            "Epoch 94: loss did not improve from 0.00035\n",
            "\n",
            "Epoch 95: loss improved from 0.00035 to 0.00035, saving model to weights.best.keras\n",
            "\n",
            "Epoch 96: loss improved from 0.00035 to 0.00035, saving model to weights.best.keras\n",
            "\n",
            "Epoch 97: loss improved from 0.00035 to 0.00034, saving model to weights.best.keras\n",
            "\n",
            "Epoch 98: loss improved from 0.00034 to 0.00033, saving model to weights.best.keras\n",
            "\n",
            "Epoch 99: loss improved from 0.00033 to 0.00033, saving model to weights.best.keras\n",
            "\n",
            "Epoch 100: loss did not improve from 0.00033\n",
            "\n",
            "Epoch 101: loss improved from 0.00033 to 0.00030, saving model to weights.best.keras\n",
            "\n",
            "Epoch 102: loss did not improve from 0.00030\n",
            "\n",
            "Epoch 103: loss did not improve from 0.00030\n",
            "\n",
            "Epoch 104: loss did not improve from 0.00030\n",
            "\n",
            "Epoch 105: loss did not improve from 0.00030\n",
            "\n",
            "Epoch 106: loss did not improve from 0.00030\n",
            "\n",
            "Epoch 107: loss did not improve from 0.00030\n",
            "\n",
            "Epoch 108: loss did not improve from 0.00030\n",
            "\n",
            "Epoch 109: loss did not improve from 0.00030\n",
            "\n",
            "Epoch 110: loss did not improve from 0.00030\n",
            "\n",
            "Epoch 111: loss did not improve from 0.00030\n",
            "\n",
            "Epoch 112: loss did not improve from 0.00030\n",
            "\n",
            "Epoch 113: loss did not improve from 0.00030\n",
            "\n",
            "Epoch 114: loss did not improve from 0.00030\n",
            "\n",
            "Epoch 115: loss did not improve from 0.00030\n",
            "\n",
            "Epoch 116: loss improved from 0.00030 to 0.00029, saving model to weights.best.keras\n",
            "\n",
            "Epoch 117: loss did not improve from 0.00029\n",
            "\n",
            "Epoch 118: loss did not improve from 0.00029\n",
            "\n",
            "Epoch 119: loss did not improve from 0.00029\n",
            "\n",
            "Epoch 120: loss did not improve from 0.00029\n",
            "\n",
            "Epoch 121: loss did not improve from 0.00029\n",
            "\n",
            "Epoch 122: loss improved from 0.00029 to 0.00027, saving model to weights.best.keras\n",
            "\n",
            "Epoch 123: loss did not improve from 0.00027\n",
            "\n",
            "Epoch 124: loss did not improve from 0.00027\n",
            "\n",
            "Epoch 125: loss improved from 0.00027 to 0.00026, saving model to weights.best.keras\n",
            "\n",
            "Epoch 126: loss improved from 0.00026 to 0.00024, saving model to weights.best.keras\n",
            "\n",
            "Epoch 127: loss improved from 0.00024 to 0.00023, saving model to weights.best.keras\n",
            "\n",
            "Epoch 128: loss did not improve from 0.00023\n",
            "\n",
            "Epoch 129: loss did not improve from 0.00023\n",
            "\n",
            "Epoch 130: loss improved from 0.00023 to 0.00023, saving model to weights.best.keras\n",
            "\n",
            "Epoch 131: loss improved from 0.00023 to 0.00022, saving model to weights.best.keras\n",
            "\n",
            "Epoch 132: loss improved from 0.00022 to 0.00022, saving model to weights.best.keras\n",
            "\n",
            "Epoch 133: loss improved from 0.00022 to 0.00022, saving model to weights.best.keras\n",
            "\n",
            "Epoch 134: loss improved from 0.00022 to 0.00021, saving model to weights.best.keras\n",
            "\n",
            "Epoch 135: loss improved from 0.00021 to 0.00020, saving model to weights.best.keras\n",
            "\n",
            "Epoch 136: loss improved from 0.00020 to 0.00019, saving model to weights.best.keras\n",
            "\n",
            "Epoch 137: loss improved from 0.00019 to 0.00019, saving model to weights.best.keras\n",
            "\n",
            "Epoch 138: loss did not improve from 0.00019\n",
            "\n",
            "Epoch 139: loss improved from 0.00019 to 0.00018, saving model to weights.best.keras\n",
            "\n",
            "Epoch 140: loss improved from 0.00018 to 0.00018, saving model to weights.best.keras\n",
            "\n",
            "Epoch 141: loss improved from 0.00018 to 0.00017, saving model to weights.best.keras\n",
            "\n",
            "Epoch 142: loss did not improve from 0.00017\n",
            "\n",
            "Epoch 143: loss improved from 0.00017 to 0.00017, saving model to weights.best.keras\n",
            "\n",
            "Epoch 144: loss did not improve from 0.00017\n",
            "\n",
            "Epoch 145: loss did not improve from 0.00017\n",
            "\n",
            "Epoch 146: loss did not improve from 0.00017\n",
            "\n",
            "Epoch 147: loss did not improve from 0.00017\n",
            "\n",
            "Epoch 148: loss improved from 0.00017 to 0.00017, saving model to weights.best.keras\n",
            "\n",
            "Epoch 149: loss improved from 0.00017 to 0.00016, saving model to weights.best.keras\n",
            "\n",
            "Epoch 150: loss improved from 0.00016 to 0.00015, saving model to weights.best.keras\n"
          ]
        },
        {
          "output_type": "execute_result",
          "data": {
            "text/plain": [
              "<keras.src.callbacks.History at 0x7c356bf70b20>"
            ]
          },
          "metadata": {},
          "execution_count": 186
        }
      ]
    },
    {
      "cell_type": "markdown",
      "source": [
        "## **Checkpoint Best Neural Network Only Evaluation:** Initially, the loss rapidly decreased, indicating improvement, and the model consistently saved its weights during epochs where loss decreased significantly. However, after around epoch 50, the rate of improvement slowed, with intermittent periods of stagnation or minimal progress. Despite this, the model continued to refine its performance, ultimately achieving a significantly lower loss by the end of training. Although there were instances where the loss did not improve, the overall trend indicates successful training with gradual optimization. As a result of this, the epoch that has the lowest loss was recorded or saved as weights.best.keras file."
      ],
      "metadata": {
        "id": "rys0yVoo7bn5"
      }
    },
    {
      "cell_type": "markdown",
      "source": [
        "# **Load a saved Neural Network model**"
      ],
      "metadata": {
        "id": "k4lS8hAp8V7c"
      }
    },
    {
      "cell_type": "code",
      "source": [
        "# Load weights\n",
        "model.load_weights(\"/content/weights.best.keras\")\n",
        "print(\"Loaded weights from file\")\n",
        "\n",
        "# Evaluation\n",
        "loss = model.evaluate(X_test_scaled, y_test)\n",
        "print(\"Test Loss:\", loss)\n"
      ],
      "metadata": {
        "colab": {
          "base_uri": "https://localhost:8080/"
        },
        "id": "ThOu_6tm8o5T",
        "outputId": "f2c46ce8-b20c-4c76-f63c-ccf4ff7acb52"
      },
      "execution_count": null,
      "outputs": [
        {
          "output_type": "stream",
          "name": "stdout",
          "text": [
            "Loaded weights from file\n",
            "2/2 [==============================] - 0s 6ms/step - loss: 0.0223\n",
            "Test Loss: 0.022301092743873596\n"
          ]
        }
      ]
    },
    {
      "cell_type": "markdown",
      "source": [
        "# **Visualize Model Training History in Keras**"
      ],
      "metadata": {
        "id": "XvrPSibvBENP"
      }
    },
    {
      "cell_type": "code",
      "source": [
        "# Fit the model and capture the training history\n",
        "history = model.fit(X_train_scaled, y_train, validation_split=0.33, epochs=150, batch_size=10, verbose=0)\n",
        "\n",
        "# Printing the keys of the history object\n",
        "print(history.history.keys())\n"
      ],
      "metadata": {
        "colab": {
          "base_uri": "https://localhost:8080/"
        },
        "id": "qedPtTOiBEjW",
        "outputId": "d7428929-ef52-495d-e6e4-512c630aaeea"
      },
      "execution_count": null,
      "outputs": [
        {
          "output_type": "stream",
          "name": "stdout",
          "text": [
            "dict_keys(['loss', 'val_loss'])\n"
          ]
        }
      ]
    },
    {
      "cell_type": "markdown",
      "source": [
        "## **Evaluation:** This is just for knowing what measurement you have used in your model. In this case, it uses loss with val_loss as it is intended for a regression problem."
      ],
      "metadata": {
        "id": "4--WWDO9aUIp"
      }
    },
    {
      "cell_type": "code",
      "source": [
        "# Listing all data in history\n",
        "print(history.history.keys())\n",
        "\n",
        "# Summarizing history for loss\n",
        "plt.plot(history.history['loss'])\n",
        "plt.plot(history.history['val_loss'])\n",
        "plt.title('model loss')\n",
        "plt.ylabel('loss')\n",
        "plt.xlabel('epoch')\n",
        "plt.legend(['train', 'test'], loc='upper left')\n",
        "plt.show()"
      ],
      "metadata": {
        "colab": {
          "base_uri": "https://localhost:8080/",
          "height": 489
        },
        "id": "mN1-XBTIB5Bk",
        "outputId": "7d3f5c01-4715-446e-c7df-d9a707ec3fdd"
      },
      "execution_count": null,
      "outputs": [
        {
          "output_type": "stream",
          "name": "stdout",
          "text": [
            "dict_keys(['loss', 'val_loss'])\n"
          ]
        },
        {
          "output_type": "display_data",
          "data": {
            "text/plain": [
              "<Figure size 640x480 with 1 Axes>"
            ],
            "image/png": "[encoded data removed]"
          },
          "metadata": {}
        }
      ]
    },
    {
      "cell_type": "markdown",
      "source": [
        "## **Model training history plot evaluation:** As we can see the testing loss goes on top of training loss which means that the model is not yet giving best performance and needs some regularization and tuning. This is because the model also captures the noise or random fluctuations in the training data rather than the underlying patterns. This can be solved using regularization like dropout and through hyperparemeter tuning."
      ],
      "metadata": {
        "id": "4OGEz_IY3UPB"
      }
    },
    {
      "cell_type": "markdown",
      "source": [
        "# **Show the application of Dropout Regularization**\n"
      ],
      "metadata": {
        "id": "bcX2baeEivVU"
      }
    },
    {
      "cell_type": "markdown",
      "source": [
        "### **Show the application of Dropout on the visible layer**\n"
      ],
      "metadata": {
        "id": "G3RcTtMXjz46"
      }
    },
    {
      "cell_type": "code",
      "source": [
        "import numpy as np\n",
        "import matplotlib.pyplot as plt\n",
        "from sklearn.model_selection import train_test_split\n",
        "from sklearn.preprocessing import StandardScaler\n",
        "from sklearn.metrics import mean_squared_error, mean_absolute_error\n",
        "from tensorflow.keras.models import Sequential\n",
        "from tensorflow.keras.layers import Dense, Dropout\n",
        "import random\n",
        "\n",
        "seed = 34\n",
        "random.seed(seed)\n",
        "\n",
        "# Building the neural network model with dropout regularization\n",
        "model = Sequential([\n",
        "    Dense(32, activation='relu', input_shape=(X_train_scaled.shape[1],)),\n",
        "    Dropout(0.5),  # Adding dropout in visible layer with a rate of 0.5 or 50%\n",
        "    Dense(16, activation='relu'),\n",
        "    Dense(1)\n",
        "])\n",
        "\n",
        "# Compiling the model\n",
        "model.compile(optimizer='adam', loss='mean_squared_error')\n",
        "\n",
        "# Training the model and capturing training history\n",
        "history = model.fit(X_train_scaled, y_train, validation_data=(X_test_scaled, y_test), epochs=150, batch_size=32, verbose=0)\n",
        "\n",
        "# Evaluating the model using MSE and MAE\n",
        "y_pred_nn = model.predict(X_test_scaled).flatten()\n",
        "mse_nn = mean_squared_error(y_test, y_pred_nn)\n",
        "print(\"Mean Squared Error (Neural Network):\", mse_nn)\n",
        "mae_nn = mean_absolute_error(y_test, y_pred_nn)\n",
        "print(\"Mean Absolute Error (Neural Network):\", mae_nn)\n",
        "\n",
        "# Plotting the training and validation loss curves\n",
        "plt.plot(history.history['loss'], label='train')\n",
        "plt.plot(history.history['val_loss'], label='validation')\n",
        "plt.title('Model Loss')\n",
        "plt.xlabel('Epoch')\n",
        "plt.ylabel('Loss')\n",
        "plt.legend()\n",
        "plt.show()"
      ],
      "metadata": {
        "colab": {
          "base_uri": "https://localhost:8080/",
          "height": 524
        },
        "id": "p4RIbJwZivon",
        "outputId": "78371bea-2879-46c4-f5e3-5993bda1da6e"
      },
      "execution_count": null,
      "outputs": [
        {
          "output_type": "stream",
          "name": "stdout",
          "text": [
            "2/2 [==============================] - 0s 5ms/step\n",
            "Mean Squared Error (Neural Network): 0.08404378430144857\n",
            "Mean Absolute Error (Neural Network): 0.19792606941311278\n"
          ]
        },
        {
          "output_type": "display_data",
          "data": {
            "text/plain": [
              "<Figure size 640x480 with 1 Axes>"
            ],
            "image/png": "[encoded data removed]"
          },
          "metadata": {}
        }
      ]
    },
    {
      "cell_type": "markdown",
      "source": [
        "## **Evaluation:** After trying different dropout values for visible layer, I came up using 0.5 or 50% since it gives the best performance in which my testing loss is close to the training loss. Meaning that the dropout regularization in visible layer handles the outliers in my the data very well which leads to better performance of the model."
      ],
      "metadata": {
        "id": "_6ZDBX2ea4VA"
      }
    },
    {
      "cell_type": "markdown",
      "source": [
        "\n",
        "# **Show the application of Dropout on the hidden layer**"
      ],
      "metadata": {
        "id": "vl6uF5Loj3a1"
      }
    },
    {
      "cell_type": "code",
      "source": [
        "import numpy as np\n",
        "import matplotlib.pyplot as plt\n",
        "from sklearn.model_selection import train_test_split\n",
        "from sklearn.preprocessing import StandardScaler\n",
        "from sklearn.metrics import mean_squared_error, mean_absolute_error\n",
        "from tensorflow.keras.models import Sequential\n",
        "from tensorflow.keras.layers import Dense, Dropout\n",
        "import random\n",
        "\n",
        "seed = 34\n",
        "random.seed(seed)\n",
        "\n",
        "# Building the neural network model with dropout regularization\n",
        "model = Sequential([\n",
        "    Dense(32, activation='relu', input_shape=(X_train_scaled.shape[1],)),\n",
        "    Dropout(0.5),\n",
        "    Dense(16, activation='relu'),\n",
        "    Dropout(0.01),\n",
        "    Dense(1)\n",
        "])\n",
        "\n",
        "# Compiling the model\n",
        "model.compile(optimizer='adam', loss='mean_squared_error')\n",
        "\n",
        "# Training the model and capturing training history\n",
        "history = model.fit(X_train_scaled, y_train, validation_data=(X_test_scaled, y_test), epochs=150, batch_size=32, verbose=0)\n",
        "\n",
        "# Evaluating the model using MSE and MAE\n",
        "y_pred_nn = model.predict(X_test_scaled).flatten()  # Flatten the predictions\n",
        "mse_nn = mean_squared_error(y_test, y_pred_nn)\n",
        "print(\"Mean Squared Error (Neural Network):\", mse_nn)\n",
        "mae_nn = mean_absolute_error(y_test, y_pred_nn)\n",
        "print(\"Mean Absolute Error (Neural Network):\", mae_nn)\n",
        "\n",
        "# Plotting the training and validation loss curves\n",
        "plt.plot(history.history['loss'], label='train')\n",
        "plt.plot(history.history['val_loss'], label='validation')\n",
        "plt.title('Model Loss')\n",
        "plt.xlabel('Epoch')\n",
        "plt.ylabel('Loss')\n",
        "plt.legend()\n",
        "plt.show()"
      ],
      "metadata": {
        "colab": {
          "base_uri": "https://localhost:8080/",
          "height": 524
        },
        "id": "Tk2atIZ9j3Dp",
        "outputId": "7f0425d3-709c-4f83-fc9b-06f60b8d5865"
      },
      "execution_count": null,
      "outputs": [
        {
          "output_type": "stream",
          "name": "stdout",
          "text": [
            "2/2 [==============================] - 0s 7ms/step\n",
            "Mean Squared Error (Neural Network): 0.08425812743541199\n",
            "Mean Absolute Error (Neural Network): 0.19870172452378984\n"
          ]
        },
        {
          "output_type": "display_data",
          "data": {
            "text/plain": [
              "<Figure size 640x480 with 1 Axes>"
            ],
            "image/png": "[encoded data removed]"
          },
          "metadata": {}
        }
      ]
    },
    {
      "cell_type": "markdown",
      "source": [
        "## **Evaluation:** Applying dropout regularization in the hidden layer of my model is slightly good since it handles outliers in the data when it comes to hidden layer, which suggest good practice when developing neural network. However, the best dropout rate I can do this model is 0.01 since when I increase the value, the loss of both training and testing is parting. Therefore, I decided to use 0.01 drop rate to avoid underfitting and overfitting in the model."
      ],
      "metadata": {
        "id": "Rl3bz6bDgIfR"
      }
    },
    {
      "cell_type": "markdown",
      "source": [
        "# **Show the application of a time-based learning rate schedule**\n",
        "\n"
      ],
      "metadata": {
        "id": "aov3l2ypt5Lu"
      }
    },
    {
      "cell_type": "code",
      "source": [
        "import numpy as np\n",
        "import matplotlib.pyplot as plt\n",
        "from sklearn.model_selection import train_test_split\n",
        "from sklearn.preprocessing import StandardScaler\n",
        "from sklearn.metrics import mean_squared_error, mean_absolute_error\n",
        "from tensorflow.keras.models import Sequential\n",
        "from tensorflow.keras.layers import Dense, Dropout\n",
        "from tensorflow.keras.callbacks import LearningRateScheduler\n",
        "import random\n",
        "\n",
        "seed = 34\n",
        "random.seed(seed)\n",
        "\n",
        "# Building the neural network model with dropout regularization\n",
        "model = Sequential([\n",
        "    Dense(32, activation='relu', input_shape=(X_train_scaled.shape[1],)),\n",
        "    Dropout(0.5),\n",
        "    Dense(16, activation='relu'),\n",
        "    Dropout(0.01),\n",
        "    Dense(1)\n",
        "])\n",
        "\n",
        "# Define the learning rate schedule function\n",
        "def lr_schedule(epoch):\n",
        "    initial_lr = 0.01\n",
        "    decay_rate = 0.95\n",
        "    decay_steps = 5\n",
        "    lr = initial_lr * decay_rate ** (epoch / decay_steps)\n",
        "    return lr\n",
        "\n",
        "# Create a learning rate scheduler callback\n",
        "lr_scheduler = LearningRateScheduler(lr_schedule)\n",
        "\n",
        "# Compiling the model\n",
        "model.compile(optimizer='adam', loss='mean_squared_error')\n",
        "\n",
        "# Training the model and capturing training history\n",
        "history = model.fit(X_train_scaled, y_train, validation_data=(X_test_scaled, y_test), epochs=150, batch_size=32, callbacks=[lr_scheduler], verbose=0)\n",
        "\n",
        "# Evaluating the model using MSE and MAE\n",
        "y_pred_nn = model.predict(X_test_scaled).flatten()  # Flatten the predictions\n",
        "mse_nn = mean_squared_error(y_test, y_pred_nn)\n",
        "print(\"Mean Squared Error (Neural Network):\", mse_nn)\n",
        "mae_nn = mean_absolute_error(y_test, y_pred_nn)\n",
        "print(\"Mean Absolute Error (Neural Network):\", mae_nn)\n",
        "\n",
        "# Plotting the training and validation loss curves\n",
        "plt.plot(history.history['loss'], label='train')\n",
        "plt.plot(history.history['val_loss'], label='validation')\n",
        "plt.title('Model Loss')\n",
        "plt.xlabel('Epoch')\n",
        "plt.ylabel('Loss')\n",
        "plt.legend()\n",
        "plt.show()\n"
      ],
      "metadata": {
        "colab": {
          "base_uri": "https://localhost:8080/",
          "height": 524
        },
        "id": "M6t34TAit9JA",
        "outputId": "c14645a6-0902-4225-874a-4b65c3b6de16"
      },
      "execution_count": null,
      "outputs": [
        {
          "output_type": "stream",
          "name": "stdout",
          "text": [
            "2/2 [==============================] - 0s 6ms/step\n",
            "Mean Squared Error (Neural Network): 0.07463836398662126\n",
            "Mean Absolute Error (Neural Network): 0.17419692732110964\n"
          ]
        },
        {
          "output_type": "display_data",
          "data": {
            "text/plain": [
              "<Figure size 640x480 with 1 Axes>"
            ],
            "image/png": "[encoded data removed]"
          },
          "metadata": {}
        }
      ]
    },
    {
      "cell_type": "markdown",
      "source": [
        "# **Time-based Learning Rate Schedule Evaluation:** Through the application of time-based learning rate schedule, I managed to slightly minimize the MSE and MAE of this neural network model due to the help of this time-based learning rate scheduler in managing convergence in my data. This is better in my case since I can easily adjust all its paramenters to achieve the desired output. Applying this made my model a little bit better. However, the testing loss in the middle and at the end is slightly higher than the training loss. This is mainly because the scheduler works on training, which improved data convergence and minimize the loss during the training."
      ],
      "metadata": {
        "id": "EyYfLSg79t01"
      }
    },
    {
      "cell_type": "markdown",
      "source": [
        "# **Show the application of a drop-based learning rate schedule**"
      ],
      "metadata": {
        "id": "pColc0SXt7re"
      }
    },
    {
      "cell_type": "code",
      "source": [
        "import numpy as np\n",
        "import matplotlib.pyplot as plt\n",
        "from sklearn.model_selection import train_test_split\n",
        "from sklearn.preprocessing import StandardScaler\n",
        "from sklearn.metrics import mean_squared_error, mean_absolute_error\n",
        "from tensorflow.keras.models import Sequential\n",
        "from tensorflow.keras.layers import Dense, Dropout\n",
        "from tensorflow.keras.callbacks import LearningRateScheduler\n",
        "import random\n",
        "\n",
        "# Define drop-based learning rate schedule function\n",
        "def drop_lr_schedule(epoch):\n",
        "    initial_lr = 0.01\n",
        "    drop_rate = 0.9\n",
        "    epochs_drop = 10\n",
        "    lr = initial_lr * np.power(drop_rate, np.floor((1 + epoch) / epochs_drop))\n",
        "    return lr\n",
        "\n",
        "# Set random seed for reproducibility\n",
        "seed = 34\n",
        "random.seed(seed)\n",
        "\n",
        "# Building the neural network model with dropout regularization\n",
        "model = Sequential([\n",
        "    Dense(32, activation='relu', input_shape=(X_train_scaled.shape[1],)),\n",
        "    Dropout(0.5),\n",
        "    Dense(16, activation='relu'),\n",
        "    Dropout(0.01),\n",
        "    Dense(1)\n",
        "])\n",
        "\n",
        "# Compiling the model\n",
        "model.compile(optimizer='adam', loss='mean_squared_error')\n",
        "\n",
        "# Define drop-based learning rate scheduler callback\n",
        "lr_scheduler = LearningRateScheduler(drop_lr_schedule)\n",
        "\n",
        "# Training the model and capturing training history\n",
        "history = model.fit(X_train_scaled, y_train, validation_data=(X_test_scaled, y_test), epochs=150, batch_size=32, verbose=0, callbacks=[lr_scheduler])\n",
        "\n",
        "# Evaluating the model using MSE and MAE\n",
        "y_pred_nn = model.predict(X_test_scaled).flatten()  # Flatten the predictions\n",
        "mse_nn = mean_squared_error(y_test, y_pred_nn)\n",
        "print(\"Mean Squared Error (Neural Network):\", mse_nn)\n",
        "mae_nn = mean_absolute_error(y_test, y_pred_nn)\n",
        "print(\"Mean Absolute Error (Neural Network):\", mae_nn)\n",
        "\n",
        "# Plotting the training and validation loss curves\n",
        "plt.plot(history.history['loss'], label='train')\n",
        "plt.plot(history.history['val_loss'], label='validation')\n",
        "plt.title('Model Loss')\n",
        "plt.xlabel('Epoch')\n",
        "plt.ylabel('Loss')\n",
        "plt.legend()\n",
        "plt.show()\n"
      ],
      "metadata": {
        "colab": {
          "base_uri": "https://localhost:8080/",
          "height": 524
        },
        "id": "3GN6k0xot9tM",
        "outputId": "3fd75fc7-b0a0-4926-94b9-4ef6262cd43b"
      },
      "execution_count": null,
      "outputs": [
        {
          "output_type": "stream",
          "name": "stdout",
          "text": [
            "2/2 [==============================] - 0s 7ms/step\n",
            "Mean Squared Error (Neural Network): 0.0753313804170493\n",
            "Mean Absolute Error (Neural Network): 0.17461335363894467\n"
          ]
        },
        {
          "output_type": "display_data",
          "data": {
            "text/plain": [
              "<Figure size 640x480 with 1 Axes>"
            ],
            "image/png": "[encoded data removed]"
          },
          "metadata": {}
        }
      ]
    },
    {
      "cell_type": "markdown",
      "source": [
        "# **Drop-based Learning Rate Schedule Evaluation:** Through the application of time-based learning rate schedule, I managed to slightly minimize the MSE and MAE of this neural network model due to the help of it in managing convergence in my data. This is simpler to use however, this works inferior to time-based learning rate scheduler since I got slightly better results using that. Applying this made my model a little bit better. However, the testing loss in the middle and at the end is slightly higher than the training loss. This is mainly because the scheduler works on training, which improved data convergence and minimize the loss during the training."
      ],
      "metadata": {
        "id": "WFegHOosEm7N"
      }
    },
    {
      "cell_type": "markdown",
      "source": [
        "# **CONCLUSION/LEARNINGS**\n",
        "\n",
        "\n",
        "## In coclusion, I considered this activity as an application of everything we have discussed regarding neural network but this time, it also includes saving the model in different file like JSON, YAML, and HDF5. This activity really do enhanced my learning and knowledge when it comes to neural networks since we did the creation of neural network model using our own chosen dataset, save it, improved the model using dropout regularization, and learning rate scheduler to improve the performance of the model. It is not just about learning what neural networks are, it is also about how can you help the society using the knowledge that you have in developing nerual networks. I learned a lot from this activity and the more I engage in this challenging activities, the more I became better at it. This activity is quite difficult and time consuming but I know that it is totally worth it in the end."
      ],
      "metadata": {
        "id": "NltY9BQHBziO"
      }
    }
  ]
}